{
 "cells": [
  {
   "cell_type": "code",
   "execution_count": 1,
   "metadata": {},
   "outputs": [],
   "source": [
    "%run notebook_setup.ipynb"
   ]
  },
  {
   "cell_type": "code",
   "execution_count": 2,
   "metadata": {},
   "outputs": [],
   "source": [
    "import pandas\n",
    "pandas.set_option('display.max_colwidth', 100)"
   ]
  },
  {
   "cell_type": "code",
   "execution_count": 3,
   "metadata": {},
   "outputs": [
    {
     "data": {
      "text/markdown": [
       "Imported `literature` (904B0F94) at Monday, 03. Aug 2020 01:39"
      ],
      "text/plain": [
       "<IPython.core.display.Markdown object>"
      ]
     },
     "metadata": {
      "text/markdown": {
       "action": "import",
       "command": "from pubmed_derived_data import literature",
       "finished": "2020-08-03T01:39:14.793354",
       "finished_human_readable": "Monday, 03. Aug 2020 01:39",
       "result": [
        {
         "new_file": {
          "crc32": "904B0F94",
          "sha256": "A2EFC068A287A3B724AE4B320EE5356E1E99474BD08A2E2A3EBA34CD0194F23B"
         },
         "subject": "literature"
        }
       ],
       "started": "2020-08-03T01:39:12.693141"
      }
     },
     "output_type": "display_data"
    }
   ],
   "source": [
    "%vault from pubmed_derived_data import literature"
   ]
  },
  {
   "cell_type": "code",
   "execution_count": 4,
   "metadata": {},
   "outputs": [],
   "source": [
    "has_abstract = ~literature['abstract'].isnull()"
   ]
  },
  {
   "cell_type": "markdown",
   "metadata": {},
   "source": [
    "**TODO: use title if not abstract, add keywords, use full text if available**"
   ]
  },
  {
   "cell_type": "code",
   "execution_count": 5,
   "metadata": {},
   "outputs": [],
   "source": [
    "literature['abstract_clean'] = literature['abstract_clean'].fillna('')"
   ]
  },
  {
   "cell_type": "code",
   "execution_count": 6,
   "metadata": {},
   "outputs": [],
   "source": [
    "domain_features = literature.index.to_frame().copy()"
   ]
  },
  {
   "cell_type": "markdown",
   "metadata": {},
   "source": [
    "# Domain knowledge / semantic features"
   ]
  },
  {
   "cell_type": "markdown",
   "metadata": {},
   "source": [
    "Spacy corpus and models are trained on generic web-based texts, not on scientific or biomedical research. In order to make use of named entities it is worth including a minimum of domain-specific terminology:\n",
    "\n",
    "- [ ] chromosomes\n",
    "  - [ ] locus\n",
    "- [ ] mutations\n",
    "  - [ ] in proteins\n",
    "  - [ ] in genes\n",
    "- [ ] gene & protein names\n",
    "  - [x] Ensebml identifiers regular expression\n",
    "  - [ ] refseq regular expression\n",
    "  - Note: Entrez ids are just numbers - would require a lot of manual\n",
    "  - [ ] MANE\n",
    "  - [ ] gene names\n",
    "  - [ ] protein names\n",
    "- [ ] metabolite names\n",
    "  - [ ] HMDB - would bias for human research\n",
    "- [x] diseases\n",
    "  - [ ] OMIM\n",
    "  - [x] ClinVar\n",
    "  - [ ] an ontology?\n",
    "- [ ] drug names\n",
    "  - [ ] DrugBank\n",
    "- [x] species\n",
    "  - [x] NCBI"
   ]
  },
  {
   "cell_type": "code",
   "execution_count": 7,
   "metadata": {},
   "outputs": [],
   "source": [
    "from pandas import read_table"
   ]
  },
  {
   "cell_type": "code",
   "execution_count": 8,
   "metadata": {},
   "outputs": [],
   "source": [
    "from helpers.text_processing import (\n",
    "    check_usage,\n",
    "    highlight_first,\n",
    "    matches_n_consecutive_words\n",
    ")"
   ]
  },
  {
   "cell_type": "code",
   "execution_count": 9,
   "metadata": {},
   "outputs": [],
   "source": [
    "from functools import partial\n",
    "\n",
    "check_usage_in_abstracts = partial(check_usage, data=literature, column='abstract_clean')"
   ]
  },
  {
   "cell_type": "code",
   "execution_count": 10,
   "metadata": {},
   "outputs": [
    {
     "name": "stderr",
     "output_type": "stream",
     "text": [
      "/home/krassowski/.pyenv/versions/3.8.3/envs/multi-omics/lib/python3.8/site-packages/tqdm/std.py:668: FutureWarning: The Panel class is removed from pandas. Accessing it from the top-level namespace will also be removed in the next version\n",
      "  from pandas import Panel\n"
     ]
    }
   ],
   "source": [
    "from tqdm import tqdm\n",
    "tqdm.pandas()"
   ]
  },
  {
   "cell_type": "markdown",
   "metadata": {},
   "source": [
    "## Gene"
   ]
  },
  {
   "cell_type": "markdown",
   "metadata": {},
   "source": [
    "### Ensembl"
   ]
  },
  {
   "cell_type": "markdown",
   "metadata": {},
   "source": [
    "> ENS(species)(object type)(identifier).(version)"
   ]
  },
  {
   "cell_type": "code",
   "execution_count": 11,
   "metadata": {},
   "outputs": [],
   "source": [
    "from pandas import read_html"
   ]
  },
  {
   "cell_type": "code",
   "execution_count": 12,
   "metadata": {},
   "outputs": [],
   "source": [
    "ens_object_types, ens_species_prefixes = read_html('data/ensembl_prefixes.html')\n",
    "ens_object_types.columns = ['code', 'object_type']"
   ]
  },
  {
   "cell_type": "code",
   "execution_count": 13,
   "metadata": {},
   "outputs": [
    {
     "data": {
      "text/html": [
       "<div>\n",
       "<style scoped>\n",
       "    .dataframe tbody tr th:only-of-type {\n",
       "        vertical-align: middle;\n",
       "    }\n",
       "\n",
       "    .dataframe tbody tr th {\n",
       "        vertical-align: top;\n",
       "    }\n",
       "\n",
       "    .dataframe thead th {\n",
       "        text-align: right;\n",
       "    }\n",
       "</style>\n",
       "<table border=\"1\" class=\"dataframe\">\n",
       "  <thead>\n",
       "    <tr style=\"text-align: right;\">\n",
       "      <th></th>\n",
       "      <th>code</th>\n",
       "      <th>object_type</th>\n",
       "    </tr>\n",
       "  </thead>\n",
       "  <tbody>\n",
       "    <tr>\n",
       "      <th>0</th>\n",
       "      <td>E</td>\n",
       "      <td>exon</td>\n",
       "    </tr>\n",
       "    <tr>\n",
       "      <th>1</th>\n",
       "      <td>FM</td>\n",
       "      <td>Ensembl protein family</td>\n",
       "    </tr>\n",
       "    <tr>\n",
       "      <th>2</th>\n",
       "      <td>G</td>\n",
       "      <td>gene</td>\n",
       "    </tr>\n",
       "    <tr>\n",
       "      <th>3</th>\n",
       "      <td>GT</td>\n",
       "      <td>gene tree</td>\n",
       "    </tr>\n",
       "    <tr>\n",
       "      <th>4</th>\n",
       "      <td>P</td>\n",
       "      <td>protein</td>\n",
       "    </tr>\n",
       "    <tr>\n",
       "      <th>5</th>\n",
       "      <td>R</td>\n",
       "      <td>regulatory feature</td>\n",
       "    </tr>\n",
       "    <tr>\n",
       "      <th>6</th>\n",
       "      <td>T</td>\n",
       "      <td>transcript</td>\n",
       "    </tr>\n",
       "  </tbody>\n",
       "</table>\n",
       "</div>"
      ],
      "text/plain": [
       "  code             object_type\n",
       "0    E                    exon\n",
       "1   FM  Ensembl protein family\n",
       "2    G                    gene\n",
       "3   GT               gene tree\n",
       "4    P                 protein\n",
       "5    R      regulatory feature\n",
       "6    T              transcript"
      ]
     },
     "execution_count": 13,
     "metadata": {},
     "output_type": "execute_result"
    }
   ],
   "source": [
    "ens_object_types "
   ]
  },
  {
   "cell_type": "code",
   "execution_count": 14,
   "metadata": {},
   "outputs": [
    {
     "data": {
      "text/html": [
       "<div>\n",
       "<style scoped>\n",
       "    .dataframe tbody tr th:only-of-type {\n",
       "        vertical-align: middle;\n",
       "    }\n",
       "\n",
       "    .dataframe tbody tr th {\n",
       "        vertical-align: top;\n",
       "    }\n",
       "\n",
       "    .dataframe thead th {\n",
       "        text-align: right;\n",
       "    }\n",
       "</style>\n",
       "<table border=\"1\" class=\"dataframe\">\n",
       "  <thead>\n",
       "    <tr style=\"text-align: right;\">\n",
       "      <th></th>\n",
       "      <th>Prefix</th>\n",
       "      <th>Species name</th>\n",
       "    </tr>\n",
       "  </thead>\n",
       "  <tbody>\n",
       "    <tr>\n",
       "      <th>0</th>\n",
       "      <td>ENSCPO</td>\n",
       "      <td>Cavia porcellus (Guinea Pig)</td>\n",
       "    </tr>\n",
       "    <tr>\n",
       "      <th>1</th>\n",
       "      <td>ENSZAL</td>\n",
       "      <td>Zonotrichia albicollis (White-throated sparrow)</td>\n",
       "    </tr>\n",
       "    <tr>\n",
       "      <th>2</th>\n",
       "      <td>ENSMUN</td>\n",
       "      <td>Melopsittacus undulatus (Budgerigar)</td>\n",
       "    </tr>\n",
       "    <tr>\n",
       "      <th>3</th>\n",
       "      <td>ENSRRO</td>\n",
       "      <td>Rhinopithecus roxellana (Golden snub-nosed monkey)</td>\n",
       "    </tr>\n",
       "    <tr>\n",
       "      <th>4</th>\n",
       "      <td>ENSCGR</td>\n",
       "      <td>Cricetulus griseus (Chinese hamster CHOK1GS)</td>\n",
       "    </tr>\n",
       "    <tr>\n",
       "      <th>...</th>\n",
       "      <td>...</td>\n",
       "      <td>...</td>\n",
       "    </tr>\n",
       "    <tr>\n",
       "      <th>279</th>\n",
       "      <td>ENSHHU</td>\n",
       "      <td>Hucho hucho (Huchen)</td>\n",
       "    </tr>\n",
       "    <tr>\n",
       "      <th>280</th>\n",
       "      <td>MGP_129S1SvImJ_</td>\n",
       "      <td>Mus musculus (Mouse 129S1/SvImJ)</td>\n",
       "    </tr>\n",
       "    <tr>\n",
       "      <th>281</th>\n",
       "      <td>ENSSPU</td>\n",
       "      <td>Sphenodon punctatus (Tuatara)</td>\n",
       "    </tr>\n",
       "    <tr>\n",
       "      <th>282</th>\n",
       "      <td>ENSBTA</td>\n",
       "      <td>Bos taurus (Cow)</td>\n",
       "    </tr>\n",
       "    <tr>\n",
       "      <th>283</th>\n",
       "      <td>ENSPCA</td>\n",
       "      <td>Procavia capensis (Hyrax)</td>\n",
       "    </tr>\n",
       "  </tbody>\n",
       "</table>\n",
       "<p>284 rows × 2 columns</p>\n",
       "</div>"
      ],
      "text/plain": [
       "              Prefix                                        Species name\n",
       "0             ENSCPO                        Cavia porcellus (Guinea Pig)\n",
       "1             ENSZAL     Zonotrichia albicollis (White-throated sparrow)\n",
       "2             ENSMUN                Melopsittacus undulatus (Budgerigar)\n",
       "3             ENSRRO  Rhinopithecus roxellana (Golden snub-nosed monkey)\n",
       "4             ENSCGR        Cricetulus griseus (Chinese hamster CHOK1GS)\n",
       "..               ...                                                 ...\n",
       "279           ENSHHU                                Hucho hucho (Huchen)\n",
       "280  MGP_129S1SvImJ_                    Mus musculus (Mouse 129S1/SvImJ)\n",
       "281           ENSSPU                       Sphenodon punctatus (Tuatara)\n",
       "282           ENSBTA                                    Bos taurus (Cow)\n",
       "283           ENSPCA                           Procavia capensis (Hyrax)\n",
       "\n",
       "[284 rows x 2 columns]"
      ]
     },
     "execution_count": 14,
     "metadata": {},
     "output_type": "execute_result"
    }
   ],
   "source": [
    "ens_species_prefixes"
   ]
  },
  {
   "cell_type": "code",
   "execution_count": 15,
   "metadata": {},
   "outputs": [],
   "source": [
    "from re import escape"
   ]
  },
  {
   "cell_type": "code",
   "execution_count": 16,
   "metadata": {},
   "outputs": [],
   "source": [
    "ens_prefix_re = '|'.join(ens_species_prefixes.Prefix.apply(escape))\n",
    "ens_object_types_re = '|'.join(ens_object_types .code.apply(escape))\n",
    "ensembl_expression = rf'(?P<species_preifx>{ens_prefix_re})(?P<object_type>{ens_object_types_re})(?P<identifier>\\d+)(?P<version_suffix>\\.\\d+)?'"
   ]
  },
  {
   "cell_type": "code",
   "execution_count": 17,
   "metadata": {},
   "outputs": [],
   "source": [
    "from re import match"
   ]
  },
  {
   "cell_type": "code",
   "execution_count": 18,
   "metadata": {},
   "outputs": [
    {
     "data": {
      "text/plain": [
       "{'species_preifx': 'ENS',\n",
       " 'object_type': 'G',\n",
       " 'identifier': '00000010404',\n",
       " 'version_suffix': None}"
      ]
     },
     "execution_count": 18,
     "metadata": {},
     "output_type": "execute_result"
    }
   ],
   "source": [
    "match(ensembl_expression, 'ENSG00000010404').groupdict()"
   ]
  },
  {
   "cell_type": "code",
   "execution_count": 19,
   "metadata": {},
   "outputs": [
    {
     "name": "stderr",
     "output_type": "stream",
     "text": [
      "/home/krassowski/.pyenv/versions/3.8.3/envs/multi-omics/lib/python3.8/site-packages/pandas/core/strings.py:1954: UserWarning: This pattern has match groups. To actually get the groups, use str.extract.\n",
      "  return func(self, *args, **kwargs)\n"
     ]
    }
   ],
   "source": [
    "has_ensembl_id = literature['abstract_clean'].str.contains(ensembl_expression) != False"
   ]
  },
  {
   "cell_type": "code",
   "execution_count": 20,
   "metadata": {},
   "outputs": [
    {
     "data": {
      "text/plain": [
       "2"
      ]
     },
     "execution_count": 20,
     "metadata": {},
     "output_type": "execute_result"
    }
   ],
   "source": [
    "sum(has_ensembl_id)"
   ]
  },
  {
   "cell_type": "code",
   "execution_count": 21,
   "metadata": {},
   "outputs": [
    {
     "data": {
      "text/html": [
       "<div>\n",
       "<style scoped>\n",
       "    .dataframe tbody tr th:only-of-type {\n",
       "        vertical-align: middle;\n",
       "    }\n",
       "\n",
       "    .dataframe tbody tr th {\n",
       "        vertical-align: top;\n",
       "    }\n",
       "\n",
       "    .dataframe thead th {\n",
       "        text-align: right;\n",
       "    }\n",
       "</style>\n",
       "<table border=\"1\" class=\"dataframe\">\n",
       "  <thead>\n",
       "    <tr style=\"text-align: right;\">\n",
       "      <th></th>\n",
       "      <th>title</th>\n",
       "      <th>abstract_clean</th>\n",
       "    </tr>\n",
       "    <tr>\n",
       "      <th>uid</th>\n",
       "      <th></th>\n",
       "      <th></th>\n",
       "    </tr>\n",
       "  </thead>\n",
       "  <tbody>\n",
       "    <tr>\n",
       "      <th>28243742</th>\n",
       "      <td>Integrative multi-omics analysis revealed SNP-lncRNA-mRNA (SLM) networks in human peripheral blo...</td>\n",
       "      <td>Long non-coding RNAs (lncRNAs) serve as important controller of cellular functions via regulatin...</td>\n",
       "    </tr>\n",
       "    <tr>\n",
       "      <th>32163894</th>\n",
       "      <td>Inferences of Individual Drug Response-Related Long Non-coding RNAs Based on Integrating Multi-o...</td>\n",
       "      <td>Differences in individual drug responses are obstacles in breast cancer (BRCA) treatment, so pre...</td>\n",
       "    </tr>\n",
       "  </tbody>\n",
       "</table>\n",
       "</div>"
      ],
      "text/plain": [
       "                                                                                                        title  \\\n",
       "uid                                                                                                             \n",
       "28243742  Integrative multi-omics analysis revealed SNP-lncRNA-mRNA (SLM) networks in human peripheral blo...   \n",
       "32163894  Inferences of Individual Drug Response-Related Long Non-coding RNAs Based on Integrating Multi-o...   \n",
       "\n",
       "                                                                                               abstract_clean  \n",
       "uid                                                                                                            \n",
       "28243742  Long non-coding RNAs (lncRNAs) serve as important controller of cellular functions via regulatin...  \n",
       "32163894  Differences in individual drug responses are obstacles in breast cancer (BRCA) treatment, so pre...  "
      ]
     },
     "execution_count": 21,
     "metadata": {},
     "output_type": "execute_result"
    }
   ],
   "source": [
    "literature[has_ensembl_id][['title', 'abstract_clean']]"
   ]
  },
  {
   "cell_type": "markdown",
   "metadata": {},
   "source": [
    "Not worth further consideration (at least on abstract levels)."
   ]
  },
  {
   "cell_type": "markdown",
   "metadata": {},
   "source": [
    "## Diseases"
   ]
  },
  {
   "cell_type": "code",
   "execution_count": 22,
   "metadata": {},
   "outputs": [
    {
     "data": {
      "text/html": [
       "<div>\n",
       "<style scoped>\n",
       "    .dataframe tbody tr th:only-of-type {\n",
       "        vertical-align: middle;\n",
       "    }\n",
       "\n",
       "    .dataframe tbody tr th {\n",
       "        vertical-align: top;\n",
       "    }\n",
       "\n",
       "    .dataframe thead th {\n",
       "        text-align: right;\n",
       "    }\n",
       "</style>\n",
       "<table border=\"1\" class=\"dataframe\">\n",
       "  <thead>\n",
       "    <tr style=\"text-align: right;\">\n",
       "      <th></th>\n",
       "      <th>#DiseaseName</th>\n",
       "      <th>SourceName</th>\n",
       "      <th>ConceptID</th>\n",
       "      <th>SourceID</th>\n",
       "      <th>DiseaseMIM</th>\n",
       "      <th>LastModified</th>\n",
       "      <th>Category</th>\n",
       "    </tr>\n",
       "  </thead>\n",
       "  <tbody>\n",
       "    <tr>\n",
       "      <th>0</th>\n",
       "      <td>1-2 finger syndactyly</td>\n",
       "      <td>Human Phenotype Ontology</td>\n",
       "      <td>C4023732</td>\n",
       "      <td>HP:0010704</td>\n",
       "      <td>NaN</td>\n",
       "      <td>16 Feb 2016</td>\n",
       "      <td>Finding</td>\n",
       "    </tr>\n",
       "    <tr>\n",
       "      <th>1</th>\n",
       "      <td>1-2 toe complete cutaneous syndactyly</td>\n",
       "      <td>Human Phenotype Ontology</td>\n",
       "      <td>C4025140</td>\n",
       "      <td>HP:0005767</td>\n",
       "      <td>NaN</td>\n",
       "      <td>16 Feb 2016</td>\n",
       "      <td>Finding</td>\n",
       "    </tr>\n",
       "    <tr>\n",
       "      <th>2</th>\n",
       "      <td>1-2 toe syndactyly</td>\n",
       "      <td>Human Phenotype Ontology</td>\n",
       "      <td>C4023726</td>\n",
       "      <td>HP:0010711</td>\n",
       "      <td>NaN</td>\n",
       "      <td>16 Feb 2016</td>\n",
       "      <td>Finding</td>\n",
       "    </tr>\n",
       "    <tr>\n",
       "      <th>3</th>\n",
       "      <td>1-3 finger syndactyly</td>\n",
       "      <td>Human Phenotype Ontology</td>\n",
       "      <td>C4023730</td>\n",
       "      <td>HP:0010706</td>\n",
       "      <td>NaN</td>\n",
       "      <td>16 Feb 2016</td>\n",
       "      <td>Finding</td>\n",
       "    </tr>\n",
       "    <tr>\n",
       "      <th>4</th>\n",
       "      <td>1-3 toe syndactyly</td>\n",
       "      <td>Human Phenotype Ontology</td>\n",
       "      <td>C4025774</td>\n",
       "      <td>HP:0001459</td>\n",
       "      <td>NaN</td>\n",
       "      <td>16 Feb 2016</td>\n",
       "      <td>Finding</td>\n",
       "    </tr>\n",
       "    <tr>\n",
       "      <th>...</th>\n",
       "      <td>...</td>\n",
       "      <td>...</td>\n",
       "      <td>...</td>\n",
       "      <td>...</td>\n",
       "      <td>...</td>\n",
       "      <td>...</td>\n",
       "      <td>...</td>\n",
       "    </tr>\n",
       "    <tr>\n",
       "      <th>43749</th>\n",
       "      <td>Zygodactyly type 3</td>\n",
       "      <td>MONDO</td>\n",
       "      <td>CN203276</td>\n",
       "      <td>MONDO:0017544</td>\n",
       "      <td>NaN</td>\n",
       "      <td>17 Apr 2020</td>\n",
       "      <td>Disease</td>\n",
       "    </tr>\n",
       "    <tr>\n",
       "      <th>43750</th>\n",
       "      <td>Zygodactyly type 4</td>\n",
       "      <td>MONDO</td>\n",
       "      <td>CN203277</td>\n",
       "      <td>MONDO:0017545</td>\n",
       "      <td>NaN</td>\n",
       "      <td>17 Apr 2020</td>\n",
       "      <td>Disease</td>\n",
       "    </tr>\n",
       "    <tr>\n",
       "      <th>43751</th>\n",
       "      <td>Zygomycosis</td>\n",
       "      <td>NaN</td>\n",
       "      <td>C0043541</td>\n",
       "      <td>NaN</td>\n",
       "      <td>NaN</td>\n",
       "      <td>16 Feb 2016</td>\n",
       "      <td>Infectious disease</td>\n",
       "    </tr>\n",
       "    <tr>\n",
       "      <th>43752</th>\n",
       "      <td>​Keratosis pilaris atrophicans</td>\n",
       "      <td>MONDO</td>\n",
       "      <td>C4310982</td>\n",
       "      <td>MONDO:0018855</td>\n",
       "      <td>NaN</td>\n",
       "      <td>28 Apr 2020</td>\n",
       "      <td>Disease</td>\n",
       "    </tr>\n",
       "    <tr>\n",
       "      <th>43753</th>\n",
       "      <td>​Keratosis pilaris atrophicans</td>\n",
       "      <td>Orphanet</td>\n",
       "      <td>C4310982</td>\n",
       "      <td>ORPHA498</td>\n",
       "      <td>NaN</td>\n",
       "      <td>28 Apr 2020</td>\n",
       "      <td>Disease</td>\n",
       "    </tr>\n",
       "  </tbody>\n",
       "</table>\n",
       "<p>43754 rows × 7 columns</p>\n",
       "</div>"
      ],
      "text/plain": [
       "                                #DiseaseName                SourceName  \\\n",
       "0                      1-2 finger syndactyly  Human Phenotype Ontology   \n",
       "1      1-2 toe complete cutaneous syndactyly  Human Phenotype Ontology   \n",
       "2                         1-2 toe syndactyly  Human Phenotype Ontology   \n",
       "3                      1-3 finger syndactyly  Human Phenotype Ontology   \n",
       "4                         1-3 toe syndactyly  Human Phenotype Ontology   \n",
       "...                                      ...                       ...   \n",
       "43749                     Zygodactyly type 3                     MONDO   \n",
       "43750                     Zygodactyly type 4                     MONDO   \n",
       "43751                            Zygomycosis                       NaN   \n",
       "43752         ​Keratosis pilaris atrophicans                     MONDO   \n",
       "43753         ​Keratosis pilaris atrophicans                  Orphanet   \n",
       "\n",
       "      ConceptID       SourceID  DiseaseMIM LastModified            Category  \n",
       "0      C4023732     HP:0010704         NaN  16 Feb 2016             Finding  \n",
       "1      C4025140     HP:0005767         NaN  16 Feb 2016             Finding  \n",
       "2      C4023726     HP:0010711         NaN  16 Feb 2016             Finding  \n",
       "3      C4023730     HP:0010706         NaN  16 Feb 2016             Finding  \n",
       "4      C4025774     HP:0001459         NaN  16 Feb 2016             Finding  \n",
       "...         ...            ...         ...          ...                 ...  \n",
       "43749  CN203276  MONDO:0017544         NaN  17 Apr 2020             Disease  \n",
       "43750  CN203277  MONDO:0017545         NaN  17 Apr 2020             Disease  \n",
       "43751  C0043541            NaN         NaN  16 Feb 2016  Infectious disease  \n",
       "43752  C4310982  MONDO:0018855         NaN  28 Apr 2020             Disease  \n",
       "43753  C4310982       ORPHA498         NaN  28 Apr 2020             Disease  \n",
       "\n",
       "[43754 rows x 7 columns]"
      ]
     },
     "execution_count": 22,
     "metadata": {},
     "output_type": "execute_result"
    }
   ],
   "source": [
    "disease_names_df = read_table('data/disease_names')\n",
    "disease_names_df"
   ]
  },
  {
   "cell_type": "code",
   "execution_count": 23,
   "metadata": {},
   "outputs": [
    {
     "data": {
      "text/plain": [
       "Disease                     26046\n",
       "Finding                     15029\n",
       "Named protein variant        1117\n",
       "Infectious disease            951\n",
       "Pharmacological response      547\n",
       "Blood group                    63\n",
       "phenotype instruction           1\n",
       "Name: Category, dtype: int64"
      ]
     },
     "execution_count": 23,
     "metadata": {},
     "output_type": "execute_result"
    }
   ],
   "source": [
    "disease_names_df.Category.value_counts()"
   ]
  },
  {
   "cell_type": "code",
   "execution_count": 24,
   "metadata": {},
   "outputs": [
    {
     "data": {
      "text/plain": [
       "25922"
      ]
     },
     "execution_count": 24,
     "metadata": {},
     "output_type": "execute_result"
    }
   ],
   "source": [
    "disease_names = disease_names_df[disease_names_df.Category == 'Disease']['#DiseaseName'].str.lower()\n",
    "len(disease_names.unique())"
   ]
  },
  {
   "cell_type": "code",
   "execution_count": 25,
   "metadata": {},
   "outputs": [
    {
     "data": {
      "image/png": "[encoded data removed]",
      "text/plain": [
       "<Figure size 432x288 with 1 Axes>"
      ]
     },
     "metadata": {
      "needs_background": "light"
     },
     "output_type": "display_data"
    }
   ],
   "source": [
    "disease_words_count = disease_names.str.split(' ').apply(len)\n",
    "disease_words_count.hist();"
   ]
  },
  {
   "cell_type": "code",
   "execution_count": 26,
   "metadata": {},
   "outputs": [
    {
     "data": {
      "text/plain": [
       "13.0"
      ]
     },
     "execution_count": 26,
     "metadata": {},
     "output_type": "execute_result"
    }
   ],
   "source": [
    "disease_words_count.quantile(0.999)"
   ]
  },
  {
   "cell_type": "code",
   "execution_count": 27,
   "metadata": {},
   "outputs": [],
   "source": [
    "ignored_disease_terms = {\n",
    "    'rare',\n",
    "    'c',\n",
    "    'acquired',\n",
    "    'localized'\n",
    "}"
   ]
  },
  {
   "cell_type": "code",
   "execution_count": 28,
   "metadata": {},
   "outputs": [
    {
     "name": "stderr",
     "output_type": "stream",
     "text": [
      "100%|██████████| 3456/3456 [00:05<00:00, 635.44it/s]\n"
     ]
    }
   ],
   "source": [
    "mentioned_diseases = literature['abstract_clean'].str.lower().progress_apply(\n",
    "    matches_n_consecutive_words,\n",
    "    database=set(disease_names) - ignored_disease_terms,\n",
    "    consecutive_n=int(disease_words_count.quantile(0.999))\n",
    ")"
   ]
  },
  {
   "cell_type": "code",
   "execution_count": 29,
   "metadata": {},
   "outputs": [],
   "source": [
    "domain_features['mentioned_diseases'] = mentioned_diseases\n",
    "domain_features['mentioned_diseases_set'] = mentioned_diseases.apply(set)\n",
    "domain_features['mentions_n_diseases'] = mentioned_diseases.apply(len)"
   ]
  },
  {
   "cell_type": "code",
   "execution_count": 30,
   "metadata": {},
   "outputs": [
    {
     "data": {
      "text/plain": [
       "cancer                                   786\n",
       "disease                                  722\n",
       "carcinoma                                132\n",
       "inflammation                              77\n",
       "cardiovascular                            68\n",
       "diabetes                                  60\n",
       "colorectal cancer                         59\n",
       "adenocarcinoma                            53\n",
       "hepatocellular carcinoma                  47\n",
       "glioblastoma                              42\n",
       "lung cancer                               41\n",
       "aging                                     37\n",
       "injury                                    34\n",
       "obesity                                   33\n",
       "squamous cell carcinoma                   31\n",
       "ovarian cancer                            28\n",
       "lung adenocarcinoma                       27\n",
       "melanoma                                  26\n",
       "gbm                                       24\n",
       "inflammatory bowel disease                21\n",
       "fatty liver disease                       20\n",
       "kidney disease                            19\n",
       "diabetes mellitus                         19\n",
       "chronic obstructive pulmonary disease     19\n",
       "glioma                                    19\n",
       "fibrosis                                  18\n",
       "transplantation                           18\n",
       "glioblastoma multiforme                   17\n",
       "stroke                                    16\n",
       "inherited                                 16\n",
       "pregnancy                                 16\n",
       "schizophrenia                             14\n",
       "rheumatoid arthritis                      13\n",
       "non-small cell lung cancer                12\n",
       "non-alcoholic fatty liver disease         12\n",
       "myeloid leukemia                          12\n",
       "lymphoma                                  10\n",
       "acute myeloid leukemia                    10\n",
       "amyotrophic lateral sclerosis             10\n",
       "lateral sclerosis                         10\n",
       "insulin resistance                        10\n",
       "pancreatic ductal adenocarcinoma           9\n",
       "cardiovascular diseases                    9\n",
       "coronary artery disease                    9\n",
       "disease susceptibility                     9\n",
       "myocardial infarction                      8\n",
       "osteoarthritis                             8\n",
       "ulcerative colitis                         8\n",
       "inborn errors of metabolism                7\n",
       "autism spectrum disorder                   7\n",
       "dtype: int64"
      ]
     },
     "execution_count": 30,
     "metadata": {},
     "output_type": "execute_result"
    }
   ],
   "source": [
    "detected_disease_occurrences = Series(domain_features['mentioned_diseases_set'].apply(list).sum())\n",
    "detected_disease_occurrences.value_counts().head(50)"
   ]
  },
  {
   "cell_type": "code",
   "execution_count": 31,
   "metadata": {},
   "outputs": [
    {
     "data": {
      "text/plain": [
       "15014"
      ]
     },
     "execution_count": 31,
     "metadata": {},
     "output_type": "execute_result"
    }
   ],
   "source": [
    "clinical_findings = disease_names_df[disease_names_df.Category == 'Finding']['#DiseaseName'].str.lower()\n",
    "len(clinical_findings.unique())"
   ]
  },
  {
   "cell_type": "code",
   "execution_count": 32,
   "metadata": {},
   "outputs": [
    {
     "data": {
      "image/png": "[encoded data removed]",
      "text/plain": [
       "<Figure size 432x288 with 1 Axes>"
      ]
     },
     "metadata": {
      "needs_background": "light"
     },
     "output_type": "display_data"
    }
   ],
   "source": [
    "clinical_findings_words_count = clinical_findings.str.split(' ').apply(len)\n",
    "clinical_findings_words_count.hist();"
   ]
  },
  {
   "cell_type": "code",
   "execution_count": 33,
   "metadata": {},
   "outputs": [],
   "source": [
    "ignored_findings_terms = {\n",
    "    'none',\n",
    "    'add',\n",
    "    '5)',\n",
    "    'id',\n",
    "    'delay',\n",
    "    'diagnostic',\n",
    "    'healthy',\n",
    "    'affected',\n",
    "    'array',\n",
    "    'falls',\n",
    "    'obligate',\n",
    "    # quantifiers\n",
    "    'all',\n",
    "    'mild',\n",
    "    'frequent',\n",
    "    'progressive',\n",
    "    'frequency',\n",
    "    'mitochondrial',\n",
    "    'symptomatic'\n",
    "}"
   ]
  },
  {
   "cell_type": "code",
   "execution_count": 34,
   "metadata": {},
   "outputs": [
    {
     "name": "stderr",
     "output_type": "stream",
     "text": [
      "100%|██████████| 3456/3456 [00:11<00:00, 308.02it/s]\n"
     ]
    }
   ],
   "source": [
    "mentioned_findings = literature['abstract_clean'].str.lower().progress_apply(\n",
    "    matches_n_consecutive_words,\n",
    "    database=set(clinical_findings) - ignored_findings_terms,\n",
    "    consecutive_n=int(clinical_findings_words_count.quantile(0.999))\n",
    ")"
   ]
  },
  {
   "cell_type": "code",
   "execution_count": 35,
   "metadata": {},
   "outputs": [
    {
     "data": {
      "text/plain": [
       "breast cancer                    118\n",
       "asthma                            30\n",
       "infections                        27\n",
       "leukemia                          27\n",
       "prostate cancer                   27\n",
       "psychiatric                       19\n",
       "plethora                          19\n",
       "poor prognosis                    17\n",
       "colitis                           17\n",
       "dissection                        15\n",
       "arthritis                         15\n",
       "colon cancer                      15\n",
       "hypoxia                           14\n",
       "shock                             14\n",
       "atherosclerosis                   13\n",
       "bladder cancer                    13\n",
       "asymptomatic                      12\n",
       "triple-negative breast cancer     12\n",
       "heart failure                     11\n",
       "hepatitis                         11\n",
       "autism spectrum                   11\n",
       "autism                            11\n",
       "streptococcus                     11\n",
       "crohn's disease                   11\n",
       "cholangiocarcinoma                 8\n",
       "sepsis                             8\n",
       "pain                               8\n",
       "heart disease                      8\n",
       "allergy                            7\n",
       "chronic kidney disease             7\n",
       "osteoporosis                       7\n",
       "dementia                           7\n",
       "weight loss                        6\n",
       "other cancer                       6\n",
       "anxiety                            6\n",
       "bipolar                            6\n",
       "neurodegeneration                  5\n",
       "nephropathy                        5\n",
       "immunodeficiency                   5\n",
       "periodontitis                      5\n",
       "asd                                5\n",
       "unaffected                         5\n",
       "neurodegenerative disorder         5\n",
       "metabolic phenotype                4\n",
       "overweight                         4\n",
       "diarrhea                           4\n",
       "renal disease                      4\n",
       "disease-free survival              4\n",
       "retinopathy                        3\n",
       "chronic hepatitis                  3\n",
       "dtype: int64"
      ]
     },
     "execution_count": 35,
     "metadata": {},
     "output_type": "execute_result"
    }
   ],
   "source": [
    "domain_features['mentioned_clinical_findings'] = mentioned_findings\n",
    "domain_features['mentioned_clinical_findings_set'] = mentioned_findings.apply(set)\n",
    "domain_features['mentions_n_clinical_findings'] = mentioned_findings.apply(len)\n",
    "mentioned_findings_occurrences = Series(domain_features['mentioned_clinical_findings_set'].apply(list).sum())\n",
    "mentioned_findings_occurrences.value_counts().head(50)"
   ]
  },
  {
   "cell_type": "markdown",
   "metadata": {},
   "source": [
    "## Species"
   ]
  },
  {
   "cell_type": "code",
   "execution_count": 36,
   "metadata": {},
   "outputs": [
    {
     "data": {
      "text/html": [
       "<div>\n",
       "<style scoped>\n",
       "    .dataframe tbody tr th:only-of-type {\n",
       "        vertical-align: middle;\n",
       "    }\n",
       "\n",
       "    .dataframe tbody tr th {\n",
       "        vertical-align: top;\n",
       "    }\n",
       "\n",
       "    .dataframe thead th {\n",
       "        text-align: right;\n",
       "    }\n",
       "</style>\n",
       "<table border=\"1\" class=\"dataframe\">\n",
       "  <thead>\n",
       "    <tr style=\"text-align: right;\">\n",
       "      <th></th>\n",
       "      <th>name</th>\n",
       "      <th>unique_name</th>\n",
       "      <th>type</th>\n",
       "    </tr>\n",
       "  </thead>\n",
       "  <tbody>\n",
       "    <tr>\n",
       "      <th>0</th>\n",
       "      <td>root</td>\n",
       "      <td>NaN</td>\n",
       "      <td>scientific name</td>\n",
       "    </tr>\n",
       "    <tr>\n",
       "      <th>1</th>\n",
       "      <td>Bacteria</td>\n",
       "      <td>Bacteria &lt;bacteria&gt;</td>\n",
       "      <td>scientific name</td>\n",
       "    </tr>\n",
       "    <tr>\n",
       "      <th>2</th>\n",
       "      <td>bacteria</td>\n",
       "      <td>NaN</td>\n",
       "      <td>blast name</td>\n",
       "    </tr>\n",
       "    <tr>\n",
       "      <th>3</th>\n",
       "      <td>eubacteria</td>\n",
       "      <td>NaN</td>\n",
       "      <td>genbank common name</td>\n",
       "    </tr>\n",
       "    <tr>\n",
       "      <th>4</th>\n",
       "      <td>Monera</td>\n",
       "      <td>Monera &lt;bacteria&gt;</td>\n",
       "      <td>in-part</td>\n",
       "    </tr>\n",
       "    <tr>\n",
       "      <th>...</th>\n",
       "      <td>...</td>\n",
       "      <td>...</td>\n",
       "      <td>...</td>\n",
       "    </tr>\n",
       "    <tr>\n",
       "      <th>3234121</th>\n",
       "      <td>Lebrunia neglecta</td>\n",
       "      <td>NaN</td>\n",
       "      <td>synonym</td>\n",
       "    </tr>\n",
       "    <tr>\n",
       "      <th>3234122</th>\n",
       "      <td>Lilyopsis medusa (Metschnikoff &amp; Metschnikoff, 1871)</td>\n",
       "      <td>NaN</td>\n",
       "      <td>authority</td>\n",
       "    </tr>\n",
       "    <tr>\n",
       "      <th>3234123</th>\n",
       "      <td>Lilyopsis medusa</td>\n",
       "      <td>NaN</td>\n",
       "      <td>scientific name</td>\n",
       "    </tr>\n",
       "    <tr>\n",
       "      <th>3234124</th>\n",
       "      <td>Lilyopsis rosea</td>\n",
       "      <td>NaN</td>\n",
       "      <td>synonym</td>\n",
       "    </tr>\n",
       "    <tr>\n",
       "      <th>3234125</th>\n",
       "      <td>Hydrothelphusinae</td>\n",
       "      <td>NaN</td>\n",
       "      <td>scientific name</td>\n",
       "    </tr>\n",
       "  </tbody>\n",
       "</table>\n",
       "<p>3234126 rows × 3 columns</p>\n",
       "</div>"
      ],
      "text/plain": [
       "                                                         name  \\\n",
       "0                                                        root   \n",
       "1                                                    Bacteria   \n",
       "2                                                    bacteria   \n",
       "3                                                  eubacteria   \n",
       "4                                                      Monera   \n",
       "...                                                       ...   \n",
       "3234121                                     Lebrunia neglecta   \n",
       "3234122  Lilyopsis medusa (Metschnikoff & Metschnikoff, 1871)   \n",
       "3234123                                      Lilyopsis medusa   \n",
       "3234124                                       Lilyopsis rosea   \n",
       "3234125                                     Hydrothelphusinae   \n",
       "\n",
       "                 unique_name                 type  \n",
       "0                        NaN      scientific name  \n",
       "1        Bacteria <bacteria>      scientific name  \n",
       "2                        NaN           blast name  \n",
       "3                        NaN  genbank common name  \n",
       "4          Monera <bacteria>              in-part  \n",
       "...                      ...                  ...  \n",
       "3234121                  NaN              synonym  \n",
       "3234122                  NaN            authority  \n",
       "3234123                  NaN      scientific name  \n",
       "3234124                  NaN              synonym  \n",
       "3234125                  NaN      scientific name  \n",
       "\n",
       "[3234126 rows x 3 columns]"
      ]
     },
     "execution_count": 36,
     "metadata": {},
     "output_type": "execute_result"
    }
   ],
   "source": [
    "species = read_table('data/taxdump/names.dmp', usecols=[2, 4, 6])\n",
    "species.columns = ['name', 'unique_name', 'type']\n",
    "species"
   ]
  },
  {
   "cell_type": "code",
   "execution_count": 37,
   "metadata": {},
   "outputs": [
    {
     "data": {
      "text/plain": [
       "index\n",
       "scientific name        2260403\n",
       "authority               503986\n",
       "synonym                 169589\n",
       "type material           149465\n",
       "includes                 53463\n",
       "equivalent name          49097\n",
       "genbank common name      29623\n",
       "common name              14493\n",
       "acronym                   1197\n",
       "genbank synonym           1110\n",
       "in-part                    535\n",
       "genbank acronym            483\n",
       "anamorph                   284\n",
       "blast name                 229\n",
       "teleomorph                 169\n",
       "Name: type, dtype: int64"
      ]
     },
     "execution_count": 37,
     "metadata": {},
     "output_type": "execute_result"
    }
   ],
   "source": [
    "species.type.sorted_value_counts()"
   ]
  },
  {
   "cell_type": "code",
   "execution_count": 38,
   "metadata": {},
   "outputs": [
    {
     "data": {
      "text/html": [
       "<div>\n",
       "<style scoped>\n",
       "    .dataframe tbody tr th:only-of-type {\n",
       "        vertical-align: middle;\n",
       "    }\n",
       "\n",
       "    .dataframe tbody tr th {\n",
       "        vertical-align: top;\n",
       "    }\n",
       "\n",
       "    .dataframe thead th {\n",
       "        text-align: right;\n",
       "    }\n",
       "</style>\n",
       "<table border=\"1\" class=\"dataframe\">\n",
       "  <thead>\n",
       "    <tr style=\"text-align: right;\">\n",
       "      <th></th>\n",
       "      <th>name</th>\n",
       "      <th>unique_name</th>\n",
       "      <th>type</th>\n",
       "    </tr>\n",
       "  </thead>\n",
       "  <tbody>\n",
       "    <tr>\n",
       "      <th>89</th>\n",
       "      <td>ATCC 39565</td>\n",
       "      <td>ATCC 39565 &lt;type strain&gt;</td>\n",
       "      <td>type material</td>\n",
       "    </tr>\n",
       "    <tr>\n",
       "      <th>90</th>\n",
       "      <td>ATCC BAA-642 [[Shewanella affinis Ivanova et al. 2004]]</td>\n",
       "      <td>ATCC BAA-642 [[Shewanella affinis Ivanova et al. 2004]] &lt;type strain&gt;</td>\n",
       "      <td>type material</td>\n",
       "    </tr>\n",
       "    <tr>\n",
       "      <th>91</th>\n",
       "      <td>CIP 107703 [[Shewanella affinis Ivanova et al. 2004]]</td>\n",
       "      <td>CIP 107703 [[Shewanella affinis Ivanova et al. 2004]] &lt;type strain&gt;</td>\n",
       "      <td>type material</td>\n",
       "    </tr>\n",
       "    <tr>\n",
       "      <th>92</th>\n",
       "      <td>KMM 3587 [[Shewanella affinis Ivanova et al. 2004]]</td>\n",
       "      <td>KMM 3587 [[Shewanella affinis Ivanova et al. 2004]] &lt;type strain&gt;</td>\n",
       "      <td>type material</td>\n",
       "    </tr>\n",
       "    <tr>\n",
       "      <th>97</th>\n",
       "      <td>strain LST-W</td>\n",
       "      <td>strain LST-W &lt;type strain&gt;</td>\n",
       "      <td>type material</td>\n",
       "    </tr>\n",
       "  </tbody>\n",
       "</table>\n",
       "</div>"
      ],
      "text/plain": [
       "                                                       name  \\\n",
       "89                                               ATCC 39565   \n",
       "90  ATCC BAA-642 [[Shewanella affinis Ivanova et al. 2004]]   \n",
       "91    CIP 107703 [[Shewanella affinis Ivanova et al. 2004]]   \n",
       "92      KMM 3587 [[Shewanella affinis Ivanova et al. 2004]]   \n",
       "97                                             strain LST-W   \n",
       "\n",
       "                                                              unique_name  \\\n",
       "89                                               ATCC 39565 <type strain>   \n",
       "90  ATCC BAA-642 [[Shewanella affinis Ivanova et al. 2004]] <type strain>   \n",
       "91    CIP 107703 [[Shewanella affinis Ivanova et al. 2004]] <type strain>   \n",
       "92      KMM 3587 [[Shewanella affinis Ivanova et al. 2004]] <type strain>   \n",
       "97                                             strain LST-W <type strain>   \n",
       "\n",
       "             type  \n",
       "89  type material  \n",
       "90  type material  \n",
       "91  type material  \n",
       "92  type material  \n",
       "97  type material  "
      ]
     },
     "execution_count": 38,
     "metadata": {},
     "output_type": "execute_result"
    }
   ],
   "source": [
    "head = species.head(100)\n",
    "head.query('type == \"type material\"').tail(5)"
   ]
  },
  {
   "cell_type": "code",
   "execution_count": 39,
   "metadata": {},
   "outputs": [
    {
     "data": {
      "text/plain": [
       "2572241"
      ]
     },
     "execution_count": 39,
     "metadata": {},
     "output_type": "execute_result"
    }
   ],
   "source": [
    "species_names = set(\n",
    "    species[(species.name != 'root') & ~species.type.isin({'authority', 'type material'})]\n",
    "    .name\n",
    "    .str.lower()\n",
    ")\n",
    "len(species_names)"
   ]
  },
  {
   "cell_type": "code",
   "execution_count": 40,
   "metadata": {},
   "outputs": [
    {
     "data": {
      "text/plain": [
       "148755"
      ]
     },
     "execution_count": 40,
     "metadata": {},
     "output_type": "execute_result"
    }
   ],
   "source": [
    "species_type_materials = set(\n",
    "    species[species.type.isin({'type material'})]\n",
    "    .name\n",
    "    # remove the citation from type material, take the name only\n",
    "    .str.split(r' \\[\\[').str[0]\n",
    ")\n",
    "len(species_type_materials)"
   ]
  },
  {
   "cell_type": "code",
   "execution_count": 41,
   "metadata": {},
   "outputs": [],
   "source": [
    "assert 'human' in species_names\n",
    "assert 'homo sapiens' in species_names"
   ]
  },
  {
   "cell_type": "markdown",
   "metadata": {},
   "source": [
    "### Manual species curation"
   ]
  },
  {
   "cell_type": "markdown",
   "metadata": {},
   "source": [
    "Note: type materials have to be case-sensitive:"
   ]
  },
  {
   "cell_type": "code",
   "execution_count": 42,
   "metadata": {},
   "outputs": [
    {
     "data": {
      "text/html": [
       "<div>\n",
       "<style scoped>\n",
       "    .dataframe tbody tr th:only-of-type {\n",
       "        vertical-align: middle;\n",
       "    }\n",
       "\n",
       "    .dataframe tbody tr th {\n",
       "        vertical-align: top;\n",
       "    }\n",
       "\n",
       "    .dataframe thead th {\n",
       "        text-align: right;\n",
       "    }\n",
       "</style>\n",
       "<table border=\"1\" class=\"dataframe\">\n",
       "  <thead>\n",
       "    <tr style=\"text-align: right;\">\n",
       "      <th></th>\n",
       "      <th>name</th>\n",
       "      <th>unique_name</th>\n",
       "      <th>type</th>\n",
       "    </tr>\n",
       "  </thead>\n",
       "  <tbody>\n",
       "    <tr>\n",
       "      <th>1871628</th>\n",
       "      <td>AND</td>\n",
       "      <td>AND &lt;type material&gt;</td>\n",
       "      <td>type material</td>\n",
       "    </tr>\n",
       "  </tbody>\n",
       "</table>\n",
       "</div>"
      ],
      "text/plain": [
       "        name          unique_name           type\n",
       "1871628  AND  AND <type material>  type material"
      ]
     },
     "execution_count": 42,
     "metadata": {},
     "output_type": "execute_result"
    }
   ],
   "source": [
    "species[species.name.str.lower() == 'and']"
   ]
  },
  {
   "cell_type": "markdown",
   "metadata": {},
   "source": [
    "Cancer is a proper genus, but we do not want to match it as it would match cancer as a disease:"
   ]
  },
  {
   "cell_type": "code",
   "execution_count": 43,
   "metadata": {},
   "outputs": [
    {
     "data": {
      "text/html": [
       "<div>\n",
       "<style scoped>\n",
       "    .dataframe tbody tr th:only-of-type {\n",
       "        vertical-align: middle;\n",
       "    }\n",
       "\n",
       "    .dataframe tbody tr th {\n",
       "        vertical-align: top;\n",
       "    }\n",
       "\n",
       "    .dataframe thead th {\n",
       "        text-align: right;\n",
       "    }\n",
       "</style>\n",
       "<table border=\"1\" class=\"dataframe\">\n",
       "  <thead>\n",
       "    <tr style=\"text-align: right;\">\n",
       "      <th></th>\n",
       "      <th>name</th>\n",
       "      <th>unique_name</th>\n",
       "      <th>type</th>\n",
       "    </tr>\n",
       "  </thead>\n",
       "  <tbody>\n",
       "    <tr>\n",
       "      <th>31637</th>\n",
       "      <td>Cancer</td>\n",
       "      <td>NaN</td>\n",
       "      <td>scientific name</td>\n",
       "    </tr>\n",
       "  </tbody>\n",
       "</table>\n",
       "</div>"
      ],
      "text/plain": [
       "         name unique_name             type\n",
       "31637  Cancer         NaN  scientific name"
      ]
     },
     "execution_count": 43,
     "metadata": {},
     "output_type": "execute_result"
    }
   ],
   "source": [
    "species[species.name.str.lower() == 'cancer']"
   ]
  },
  {
   "cell_type": "markdown",
   "metadata": {},
   "source": [
    "None of the articles appears to refer to a fish when they use \"spot\" either:"
   ]
  },
  {
   "cell_type": "code",
   "execution_count": 44,
   "metadata": {},
   "outputs": [
    {
     "data": {
      "text/html": [
       "<div>\n",
       "<style scoped>\n",
       "    .dataframe tbody tr th:only-of-type {\n",
       "        vertical-align: middle;\n",
       "    }\n",
       "\n",
       "    .dataframe tbody tr th {\n",
       "        vertical-align: top;\n",
       "    }\n",
       "\n",
       "    .dataframe thead th {\n",
       "        text-align: right;\n",
       "    }\n",
       "</style>\n",
       "<table border=\"1\" class=\"dataframe\">\n",
       "  <thead>\n",
       "    <tr style=\"text-align: right;\">\n",
       "      <th></th>\n",
       "      <th>name</th>\n",
       "      <th>unique_name</th>\n",
       "      <th>type</th>\n",
       "    </tr>\n",
       "  </thead>\n",
       "  <tbody>\n",
       "    <tr>\n",
       "      <th>123457</th>\n",
       "      <td>spot</td>\n",
       "      <td>NaN</td>\n",
       "      <td>common name</td>\n",
       "    </tr>\n",
       "  </tbody>\n",
       "</table>\n",
       "</div>"
      ],
      "text/plain": [
       "        name unique_name         type\n",
       "123457  spot         NaN  common name"
      ]
     },
     "execution_count": 44,
     "metadata": {},
     "output_type": "execute_result"
    }
   ],
   "source": [
    "species[species.name.str.lower() == 'spot']"
   ]
  },
  {
   "cell_type": "code",
   "execution_count": 45,
   "metadata": {},
   "outputs": [
    {
     "data": {
      "text/plain": [
       "uid\n",
       "21831800    genomics level, exome sequencing has been the hot spot of the recent research. However, the pred...\n",
       "25345010    riptomics and proteomics, is becoming the new hot spot of life science. Although the fast output...\n",
       "31162831                                              Target spot is a newly emerging citrus disease caused by \n",
       "31616468    ean or median of the pixel intensities within the spot and then subjected to a within-slide norm...\n",
       "Name: abstract_clean, dtype: object"
      ]
     },
     "execution_count": 45,
     "metadata": {},
     "output_type": "execute_result"
    }
   ],
   "source": [
    "check_usage_in_abstracts('spot')"
   ]
  },
  {
   "cell_type": "markdown",
   "metadata": {},
   "source": [
    "Python is used as a programming language:"
   ]
  },
  {
   "cell_type": "code",
   "execution_count": 46,
   "metadata": {},
   "outputs": [
    {
     "data": {
      "text/plain": [
       "uid\n",
       "23927696    available software.\\n\\n\\nHere, we describe COBRA for Python (COBRApy), a Python package that pro...\n",
       "25637560    _pipe). Omics Pipe is distributed as a standalone Python package for installation (https://pypi....\n",
       "26072472    D IMPLEMENTATION\\nMSProGene is written in Java and Python. It is open source and available at ht...\n",
       "27986083    lated within a user-friendly implementation using Python and Docker. IMP is available at http://...\n",
       "28640810    nted as a general-purpose toolbox using the PyGMO Python package to make the most of multicore c...\n",
       "29746212    umber of examined species were identified using a Python script. Multiple genomic alignments of ...\n",
       "30221093    lack of adequate data analysis training (e.g., R, Python) as a main challenge, in addition to no...\n",
       "30596886    http://b2slab.upc.edu/software-and-tutorials/ and Python package: https://pypi.python.org/pypi/m...\n",
       "30668675    //rgv.genouest.org. The website is implemented in Python, JavaScript and MongoDB, and is compati...\n",
       "30825303    esults and a reference implementation of dgMDL in Python is available on https://github.com/luop...\n",
       "30944779    ps://github.com/Candihub/pixel). It is written in Python using the Django framework and stores a...\n",
       "31092193    ogical abstractions.\\n\\n\\nHere, we present PathMe, a Python package that transforms pathway know...\n",
       "31152171    confounders. DMRs were identified using comb-p in Python. Results were validated in the Rotterda...\n",
       "32070398                                      e analysis software is available as the protaccel Python package.\n",
       "Name: abstract_clean, dtype: object"
      ]
     },
     "execution_count": 46,
     "metadata": {},
     "output_type": "execute_result"
    }
   ],
   "source": [
    "check_usage_in_abstracts('Python')"
   ]
  },
  {
   "cell_type": "markdown",
   "metadata": {},
   "source": [
    "California is used as place:"
   ]
  },
  {
   "cell_type": "code",
   "execution_count": 47,
   "metadata": {},
   "outputs": [
    {
     "data": {
      "text/plain": [
       "uid\n",
       "21194970    troprusside (SNP). QuantiGene (Panomics, Fremont, California) branched DNA (bDNA) assay was used...\n",
       "28443069    . At \"Long-term Soil Productivity Study\" sites in California dominated by Ponderosa pine, we tes...\n",
       "29339647    NN) held its 11th annual Congress in Los Angeles, California, between September 16 and 19, 2017....\n",
       "29688803    dosis related omics evidence in the University of California Santa Cruz (UCSC) Genome Browser. F...\n",
       "31299210    nd PCBs, in a women cohort with sera collected in California in the 1960s. Strikingly, this anal...\n",
       "31825540    n,\" was held 20 to 23 June, 2019, in Los Angeles, California.\\n\\n\\nThe CHPCA Meeting is an annua...\n",
       "Name: abstract_clean, dtype: object"
      ]
     },
     "execution_count": 47,
     "metadata": {},
     "output_type": "execute_result"
    }
   ],
   "source": [
    "check_usage_in_abstracts('California')"
   ]
  },
  {
   "cell_type": "code",
   "execution_count": 48,
   "metadata": {},
   "outputs": [
    {
     "data": {
      "text/plain": [
       "uid\n",
       "16077939    Rat Sfrp1 (314 aa) consisted of a signal peptide (codon 1-31), Frizzled domain with ten conserve...\n",
       "17611704    lineage specific T to G nucleotide change at stop codon of chimpanzee, rat, and mouse HES3 ortho...\n",
       "26482106    ion to a changing environment: pathway structure, codon usage, metabolism. To measure adaptabili...\n",
       "26850284    s data and subsets thereof to establish reference codon usage biases for codon optimization in s...\n",
       "27633273    gnments, conservation and variation, CpG islands, codon context, usage bias and phylogenetic inf...\n",
       "29222764    mplemented in MATLAB. METRADE uses microarray and codon usage data to model bacterial metabolic ...\n",
       "30066640     collection of gene expression and sequence data, codon usage and protein abundances) to analyse...\n",
       "31046701    p.Arg5688*), predicted to create a premature stop codon near the N-terminus of ADGRV1. Ophthalmo...\n",
       "31071195    t Saccharomycopsis yeasts have reassigned the CTG codon and translate CTG into serine instead of...\n",
       "32041497    417C→A variant introduces a premature termination codon (Y139X). We found reduced CHK2 protein e...\n",
       "32694125     of protein-coding genes, which included 44 start codon changes and 42 added proteins. We develo...\n",
       "Name: abstract_clean, dtype: object"
      ]
     },
     "execution_count": 48,
     "metadata": {},
     "output_type": "execute_result"
    }
   ],
   "source": [
    "check_usage_in_abstracts('codon')"
   ]
  },
  {
   "cell_type": "code",
   "execution_count": 49,
   "metadata": {},
   "outputs": [
    {
     "data": {
      "text/plain": [
       "uid\n",
       "23883549    y butanol treatment. Notably, 3-phosphoglycerate, glycine, serine and urea related to general st...\n",
       "27228119    esults suggested reprogrammed pathways related to glycine metabolism, fatty acids metabolism and...\n",
       "27589727    in \"phosphoglycerate mutase 2\" and the metabolite glycine. We hypothesize that association studi...\n",
       "27879288    RJ, CD44, and C4A, as well as increased levels of glycine and asparagine, and decreased levels o...\n",
       "29325019    G sites, i.e. of glycerophospholipid PC(O-36: 5), glycine and a very low-density lipoprotein (VL...\n",
       "29859941    fermentation pathways of the amino acids proline, glycine and leucine. But also a far-reaching r...\n",
       "29930756    gnificantly altered glutamine, glucose and serine/glycine metabolism. The predominant upregulate...\n",
       "30086113    tes (uridine, C-glycosyl tryptophan, and N-acetyl glycine) were statistically independent and th...\n",
       "31029960    red metabolites, the metabolic pathway containing glycine, serine and threonine was the most sig...\n",
       "31104335    ar metabolites. Follow-up analyses suggested that glycine mediates the relationship between carb...\n",
       "31717805    o amino acid metabolism, particularly alanine and glycine metabolism, were affected in the liver...\n",
       "31733966    al changes including aminoacyl-tRNA biosynthesis, glycine, serine and threonine metabolism, nitr...\n",
       "32010956    e acids, together with the respective taurine and glycine conjugates, were quantified through ul...\n",
       "32245432    e predicted four amino acids (alanine, glutamate, glycine and aspartate) as the limited precurso...\n",
       "32277923    in particular, a significantly increased level of glycine N-methyltransferase and increased leve...\n",
       "32398126    t the host's metabolism of amino acids (including glycine, serine, threonine, alanine, aspartate...\n",
       "32413334    val. We identified a potential involvement of the glycine-serine-threonine metabolic axis in lon...\n",
       "32566075    mino acid, aromatic amino acid, beta-alanine, and glycine, serine and threonine metabolism, lipi...\n",
       "32616808    s that are uniquely associated with dry, wet, and glycine-amended conditions. A subsequent gene ...\n",
       "32655010    igher concentrations of serum amyloid A (SAA) and glycine, and lower concentrations of sphingomy...\n",
       "Name: abstract_clean, dtype: object"
      ]
     },
     "execution_count": 49,
     "metadata": {},
     "output_type": "execute_result"
    }
   ],
   "source": [
    "check_usage_in_abstracts('glycine')"
   ]
  },
  {
   "cell_type": "code",
   "execution_count": 50,
   "metadata": {},
   "outputs": [
    {
     "data": {
      "text/plain": [
       "uid\n",
       "22960126    ta thalassemia (Het-βThal). Het-βThal causes mild anemia and is known to determine a pro-oxidant...\n",
       "26948278    oorly understood. Moreover, current management of anemia in ESRD is controversial due to the \"an...\n",
       "27136057    at risk for a drug side effect (ribavirin-induced anemia) and how genetic variation (inosine tri...\n",
       "29590102    cal phenotypes such as red blood cell parameters, anemia, and chronic kidney disease (CKD). In a...\n",
       "Name: abstract_clean, dtype: object"
      ]
     },
     "execution_count": 50,
     "metadata": {},
     "output_type": "execute_result"
    }
   ],
   "source": [
    "check_usage_in_abstracts('anemia')"
   ]
  },
  {
   "cell_type": "code",
   "execution_count": 51,
   "metadata": {},
   "outputs": [
    {
     "data": {
      "text/plain": [
       "uid\n",
       "16142419    placenta, and uterus. FGF22 mRNA was expressed in hippocampus and ovarian fibrotheoma. FGF7 prom...\n",
       "27731396    files of PLF and PSF groups were acquired for the hippocampus and plasma to identify molecular p...\n",
       "28300637    tabolite assignments from three ROIs (cerebellum, hippocampus and midbrain/hypothalamus) in posi...\n",
       "30291623    filed the transcriptome and proteome of the mouse hippocampus during early stages of disease dev...\n",
       "31942070                                                 The hippocampus is an important part of the limbic sys\n",
       "32170004    essed in liver, brain cerebellum, frontal cortex, hippocampus and pituitary. Our studies provide...\n",
       "32234596    significantly increased the levels of BDNF in the hippocampus. Cecum contents metabolomics revea...\n",
       "Name: abstract_clean, dtype: object"
      ]
     },
     "execution_count": 51,
     "metadata": {},
     "output_type": "execute_result"
    }
   ],
   "source": [
    "check_usage_in_abstracts('hippocampus')"
   ]
  },
  {
   "cell_type": "markdown",
   "metadata": {},
   "source": [
    "Mixed usage: as referring to species or in another meaning:"
   ]
  },
  {
   "cell_type": "code",
   "execution_count": 52,
   "metadata": {},
   "outputs": [
    {
     "data": {
      "text/plain": [
       "uid\n",
       "26421150    with asthma. The outcome of interest was a binary indicator of asthma control defined by the use...\n",
       "26444894     occurring within the warfighter as a preclinical indicator. Current methods for determining tox...\n",
       "26870025    rRNA gene amplicon sequencing and methods such as indicator species analysis, the Kolmogorov-Smi...\n",
       "28335448    . The multi-omics data, in combination with fecal indicator bacteria (FIB) counts, trace metal c...\n",
       "29222764    sion, metabolism is increasingly being used as an indicator of the phenotypic outcome for drugs ...\n",
       "29844878    non-coding RNA, which is known to be a prognostic indicator for breast cancer and stimulated by ...\n",
       "30189879    e the ability to passively monitor behavior as an indicator of socialization and mood; accumulat...\n",
       "31054440                  Ambient fine particle is a crucial indicator of air pollution brought into the air by\n",
       "31258819    sing its human development index (HDI): a summary indicator of health, education, and income. Th...\n",
       "32156745    dies. sCDH3 is a survival predictor and real-time indicator of treatment efficacy in patients wi...\n",
       "32368297     prognostic signature was an effective prognostic indicator in 9,122 patients across 30 types of...\n",
       "Name: abstract_clean, dtype: object"
      ]
     },
     "execution_count": 52,
     "metadata": {},
     "output_type": "execute_result"
    }
   ],
   "source": [
    "check_usage_in_abstracts('indicator')"
   ]
  },
  {
   "cell_type": "markdown",
   "metadata": {},
   "source": [
    "But majority indicators would be false-positives, excluding; \"fecal indicator bacteria\" will match anyways on \"bacteria\"."
   ]
  },
  {
   "cell_type": "markdown",
   "metadata": {},
   "source": [
    "Numeric only records are to vague and will be excluded to avoid false positives:"
   ]
  },
  {
   "cell_type": "code",
   "execution_count": 53,
   "metadata": {},
   "outputs": [
    {
     "data": {
      "text/html": [
       "<div>\n",
       "<style scoped>\n",
       "    .dataframe tbody tr th:only-of-type {\n",
       "        vertical-align: middle;\n",
       "    }\n",
       "\n",
       "    .dataframe tbody tr th {\n",
       "        vertical-align: top;\n",
       "    }\n",
       "\n",
       "    .dataframe thead th {\n",
       "        text-align: right;\n",
       "    }\n",
       "</style>\n",
       "<table border=\"1\" class=\"dataframe\">\n",
       "  <thead>\n",
       "    <tr style=\"text-align: right;\">\n",
       "      <th></th>\n",
       "      <th>name</th>\n",
       "      <th>unique_name</th>\n",
       "      <th>type</th>\n",
       "    </tr>\n",
       "  </thead>\n",
       "  <tbody>\n",
       "    <tr>\n",
       "      <th>905354</th>\n",
       "      <td>382</td>\n",
       "      <td>382 &lt;type material&gt;</td>\n",
       "      <td>type material</td>\n",
       "    </tr>\n",
       "  </tbody>\n",
       "</table>\n",
       "</div>"
      ],
      "text/plain": [
       "       name          unique_name           type\n",
       "905354  382  382 <type material>  type material"
      ]
     },
     "execution_count": 53,
     "metadata": {},
     "output_type": "execute_result"
    }
   ],
   "source": [
    "species[species.name == '382']"
   ]
  },
  {
   "cell_type": "code",
   "execution_count": 54,
   "metadata": {},
   "outputs": [
    {
     "data": {
      "text/plain": [
       "146"
      ]
     },
     "execution_count": 54,
     "metadata": {},
     "output_type": "execute_result"
    }
   ],
   "source": [
    "numeric_species_terms = {name for name in species.name if name.isnumeric()}\n",
    "len(numeric_species_terms)"
   ]
  },
  {
   "cell_type": "markdown",
   "metadata": {},
   "source": [
    "Some other species names excluded:"
   ]
  },
  {
   "cell_type": "code",
   "execution_count": 55,
   "metadata": {},
   "outputs": [
    {
     "data": {
      "text/html": [
       "<div>\n",
       "<style scoped>\n",
       "    .dataframe tbody tr th:only-of-type {\n",
       "        vertical-align: middle;\n",
       "    }\n",
       "\n",
       "    .dataframe tbody tr th {\n",
       "        vertical-align: top;\n",
       "    }\n",
       "\n",
       "    .dataframe thead th {\n",
       "        text-align: right;\n",
       "    }\n",
       "</style>\n",
       "<table border=\"1\" class=\"dataframe\">\n",
       "  <thead>\n",
       "    <tr style=\"text-align: right;\">\n",
       "      <th></th>\n",
       "      <th>name</th>\n",
       "      <th>unique_name</th>\n",
       "      <th>type</th>\n",
       "    </tr>\n",
       "  </thead>\n",
       "  <tbody>\n",
       "    <tr>\n",
       "      <th>2217657</th>\n",
       "      <td>collection</td>\n",
       "      <td>NaN</td>\n",
       "      <td>scientific name</td>\n",
       "    </tr>\n",
       "  </tbody>\n",
       "</table>\n",
       "</div>"
      ],
      "text/plain": [
       "               name unique_name             type\n",
       "2217657  collection         NaN  scientific name"
      ]
     },
     "execution_count": 55,
     "metadata": {},
     "output_type": "execute_result"
    }
   ],
   "source": [
    "species[species.name.str.lower() == 'collection']"
   ]
  },
  {
   "cell_type": "code",
   "execution_count": 56,
   "metadata": {},
   "outputs": [],
   "source": [
    "ignored_species_terms = {\n",
    "    'cancer',\n",
    "    'other',\n",
    "    'collection',\n",
    "    'synthetic',\n",
    "    'artificial',\n",
    "    'unknown',\n",
    "    'none',\n",
    "    'unidentified',\n",
    "    'hybrid',\n",
    "    'clinical samples',\n",
    "    'vectors',\n",
    "    'spot',\n",
    "    'this',\n",
    "    'data',\n",
    "    'major',\n",
    "    'colon',\n",
    "    'cnv',  # copy number variation\n",
    "    'goes',\n",
    "    'automate',\n",
    "    'axis',\n",
    "    'idea',\n",
    "    'laser',\n",
    "    'beta',\n",
    "    'areas',\n",
    "    'electron',\n",
    "    'bias',\n",
    "    'python',\n",
    "    'cis',  # chemistry prefix\n",
    "    'insertion',\n",
    "    'aa',   # amino acid\n",
    "    'california',\n",
    "    'codon',    # in sequence\n",
    "    'glycine',  # amino acid\n",
    "    'anemia',   # disease\n",
    "    'hippocampus',\n",
    "    'meta',\n",
    "    'indicator'\n",
    "}"
   ]
  },
  {
   "cell_type": "markdown",
   "metadata": {},
   "source": [
    "Some names are just long:"
   ]
  },
  {
   "cell_type": "code",
   "execution_count": 57,
   "metadata": {},
   "outputs": [
    {
     "data": {
      "text/plain": [
       "4788      cloning vector pb-degron-tvmvs-mcp-cnot7-e2a-mcp-cnot7-tevs-degron-p2a-ntevp-yap-t2a-14-3-3sigma...\n",
       "20015     cloning vector pb-6-xnor-degron-tvmvs-mcp-tevs-cnot7-e2a-mcp-tvmvs-cnot7-tevs-degron-f2a-ntevp-f...\n",
       "175405    cloning vector pb-5-xor-degron-tvmvs-mcp-cnot7-tevs-degron-e2a-mcp-tevs-tvmvs-cnot7-f2a-ntevp-fr...\n",
       "202108    (megalobrama amblycephala x parabramis pekinensis) x (megalobrama amblycephala x parabramis peki...\n",
       "256597    metschnikowia pimensis (s.o. suh, c.m. gibson & m. blackwell) c.p. kurtzman, c.j. robnett & e. b...\n",
       "dtype: object"
      ]
     },
     "execution_count": 57,
     "metadata": {},
     "output_type": "execute_result"
    }
   ],
   "source": [
    "x = Series(list(species_names))\n",
    "x[x.str.len() > 100].head()"
   ]
  },
  {
   "cell_type": "code",
   "execution_count": 58,
   "metadata": {},
   "outputs": [
    {
     "data": {
      "image/png": "[encoded data removed]",
      "text/plain": [
       "<Figure size 432x288 with 1 Axes>"
      ]
     },
     "metadata": {
      "needs_background": "light"
     },
     "output_type": "display_data"
    }
   ],
   "source": [
    "species_words_count_distribution = x.str.split(' ').apply(len)\n",
    "species_words_count_distribution.hist();"
   ]
  },
  {
   "cell_type": "markdown",
   "metadata": {},
   "source": [
    "For sanity, will only check for species names up to 8 words long (which captures 99.9% of the terms):"
   ]
  },
  {
   "cell_type": "code",
   "execution_count": 59,
   "metadata": {},
   "outputs": [
    {
     "data": {
      "text/plain": [
       "8.0"
      ]
     },
     "execution_count": 59,
     "metadata": {},
     "output_type": "execute_result"
    }
   ],
   "source": [
    "species_words_count_distribution.quantile(0.999)"
   ]
  },
  {
   "cell_type": "code",
   "execution_count": 60,
   "metadata": {},
   "outputs": [
    {
     "name": "stderr",
     "output_type": "stream",
     "text": [
      "100%|██████████| 3456/3456 [00:03<00:00, 961.69it/s] \n"
     ]
    }
   ],
   "source": [
    "mentioned_species_type_material = literature['abstract_clean'].str.lower().progress_apply(\n",
    "    matches_n_consecutive_words,\n",
    "    database=species_type_materials - numeric_species_terms,\n",
    "    consecutive_n=int(species_words_count_distribution.quantile(0.999))\n",
    ")"
   ]
  },
  {
   "cell_type": "code",
   "execution_count": 61,
   "metadata": {},
   "outputs": [
    {
     "data": {
      "text/plain": [
       "[]    3456\n",
       "Name: abstract_clean, dtype: int64"
      ]
     },
     "execution_count": 61,
     "metadata": {},
     "output_type": "execute_result"
    }
   ],
   "source": [
    "mentioned_species_type_material.value_counts()"
   ]
  },
  {
   "cell_type": "code",
   "execution_count": 62,
   "metadata": {},
   "outputs": [],
   "source": [
    "assert (mentioned_species_type_material.apply(len) == 0).all()"
   ]
  },
  {
   "cell_type": "code",
   "execution_count": 63,
   "metadata": {},
   "outputs": [
    {
     "name": "stderr",
     "output_type": "stream",
     "text": [
      "100%|██████████| 3456/3456 [00:04<00:00, 859.64it/s]\n"
     ]
    }
   ],
   "source": [
    "mentioned_species = literature['abstract_clean'].str.lower().progress_apply(\n",
    "    matches_n_consecutive_words,\n",
    "    database=species_names - ignored_species_terms - numeric_species_terms,\n",
    "    consecutive_n=int(species_words_count_distribution.quantile(0.999))\n",
    ")"
   ]
  },
  {
   "cell_type": "code",
   "execution_count": 64,
   "metadata": {},
   "outputs": [],
   "source": [
    "domain_features['mentioned_species'] = mentioned_species\n",
    "domain_features['mentions_n_species'] = mentioned_species.isnull()"
   ]
  },
  {
   "cell_type": "code",
   "execution_count": 65,
   "metadata": {},
   "outputs": [],
   "source": [
    "terms_to_merge = {\n",
    "    'escherichia': ['e. coli', 'escherichia', 'escherichia coli'],\n",
    "    'rat': ['rat', 'rats'],\n",
    "    'mice': ['mice', 'mouse'],\n",
    "    'human': ['humans', 'human'],\n",
    "    'bacteria': ['bacteria', 'bacterium'],\n",
    "    'saccharomyces': ['saccharomyces', 'saccharomyces cerevisiae', 's. cerevisiae'],\n",
    "    'corn': ['maize', 'corn'],\n",
    "    'cattle': ['cow', 'cattle', 'bovine'],\n",
    "    'nematode': ['nematodes', 'nematode']\n",
    "}\n",
    "\n",
    "merge_terms = {\n",
    "    value: label\n",
    "    for label, values in terms_to_merge.items()\n",
    "    for value in values\n",
    "}"
   ]
  },
  {
   "cell_type": "code",
   "execution_count": 66,
   "metadata": {},
   "outputs": [],
   "source": [
    "mentioned_species = mentioned_species.apply(lambda species: [merge_terms.get(s, s) for s in species])"
   ]
  },
  {
   "cell_type": "code",
   "execution_count": 67,
   "metadata": {},
   "outputs": [
    {
     "data": {
      "text/plain": [
       "human                   697\n",
       "mice                    222\n",
       "microbiota              129\n",
       "bacteria                 95\n",
       "rat                      67\n",
       "gut microbiome           62\n",
       "plants                   61\n",
       "escherichia              42\n",
       "animals                  31\n",
       "cattle                   23\n",
       "saccharomyces            22\n",
       "arabidopsis              20\n",
       "rice                     20\n",
       "corn                     19\n",
       "fungi                    19\n",
       "zebrafish                18\n",
       "fish                     16\n",
       "metagenome               15\n",
       "human microbiome         12\n",
       "viruses                  12\n",
       "rodent                   12\n",
       "soybean                  12\n",
       "streptococcus            11\n",
       "chicken                  10\n",
       "chimpanzee               10\n",
       "nematode                 10\n",
       "pigs                     10\n",
       "caenorhabditis            9\n",
       "bacteroidetes             9\n",
       "clostridium               9\n",
       "pseudomonas               9\n",
       "firmicutes                9\n",
       "wheat                     9\n",
       "eukaryotes                9\n",
       "sepsis                    8\n",
       "mycobacterium             8\n",
       "chinese hamster           8\n",
       "drosophila                8\n",
       "tobacco                   8\n",
       "algae                     7\n",
       "bacillus                  7\n",
       "aspergillus               7\n",
       "plasmodium                7\n",
       "proteobacteria            7\n",
       "phyla                     7\n",
       "archaea                   7\n",
       "human gut microbiota      7\n",
       "niger                     7\n",
       "streptomyces              6\n",
       "cyanobacteria             6\n",
       "dtype: int64"
      ]
     },
     "execution_count": 67,
     "metadata": {},
     "output_type": "execute_result"
    }
   ],
   "source": [
    "domain_features['mentioned_species'] = mentioned_species\n",
    "domain_features['mentioned_species_set'] = mentioned_species.apply(set)\n",
    "domain_features['mentions_n_species'] = mentioned_findings.apply(len)\n",
    "mentioned_species_occurrences = Series(domain_features['mentioned_species_set'].apply(list).sum())\n",
    "mentioned_species_occurrences.value_counts().head(50)"
   ]
  },
  {
   "cell_type": "code",
   "execution_count": 68,
   "metadata": {},
   "outputs": [
    {
     "data": {
      "text/plain": [
       "papillomavirus               6\n",
       "chlamydomonas                6\n",
       "human papillomavirus         6\n",
       "primate                      6\n",
       "soil microbiome              5\n",
       "hepatitis b virus            5\n",
       "lactobacillus                5\n",
       "apple                        5\n",
       "cotton                       5\n",
       "salmonella                   5\n",
       "coronavirus                  5\n",
       "cyanobacterium               5\n",
       "b virus                      5\n",
       "chlamydomonas reinhardtii    5\n",
       "tomato                       5\n",
       "yersinia                     5\n",
       "metagenomes                  5\n",
       "arabidopsis thaliana         5\n",
       "pig                          5\n",
       "candida                      4\n",
       "dtype: int64"
      ]
     },
     "execution_count": 68,
     "metadata": {},
     "output_type": "execute_result"
    }
   ],
   "source": [
    "mentioned_species_occurrences.value_counts().head(70).tail(20)"
   ]
  },
  {
   "cell_type": "code",
   "execution_count": 69,
   "metadata": {},
   "outputs": [
    {
     "data": {
      "text/plain": [
       "830"
      ]
     },
     "execution_count": 69,
     "metadata": {},
     "output_type": "execute_result"
    }
   ],
   "source": [
    "len(set(mentioned_species_occurrences))"
   ]
  },
  {
   "cell_type": "code",
   "execution_count": 70,
   "metadata": {},
   "outputs": [],
   "source": [
    "microbiota_terms = [\n",
    "    'microbiota', 'gut microbiome', 'human gut microbiota'\n",
    "    # maybe - needs context\n",
    "    'metagenome',\n",
    "]"
   ]
  },
  {
   "cell_type": "code",
   "execution_count": 71,
   "metadata": {},
   "outputs": [
    {
     "data": {
      "text/plain": [
       "(0.7965856481481481, 0.8195891634415005)"
      ]
     },
     "execution_count": 71,
     "metadata": {},
     "output_type": "execute_result"
    }
   ],
   "source": [
    "(domain_features['mentions_n_species'] == 0).mean(), (domain_features['mentions_n_species'] == 0).sum() / has_abstract.sum()"
   ]
  },
  {
   "cell_type": "code",
   "execution_count": 72,
   "metadata": {},
   "outputs": [
    {
     "data": {
      "text/plain": [
       "(0.40335648148148145, 0.4150044656147663)"
      ]
     },
     "execution_count": 72,
     "metadata": {},
     "output_type": "execute_result"
    }
   ],
   "source": [
    "domain_features['mentions_n_species'].mean(), domain_features['mentions_n_species'].sum() / has_abstract.sum()"
   ]
  },
  {
   "cell_type": "code",
   "execution_count": 73,
   "metadata": {},
   "outputs": [
    {
     "data": {
      "text/markdown": [
       "Stored `domain_features` (02FA7AED → 9CBD2CED) at Monday, 03. Aug 2020 01:40"
      ],
      "text/plain": [
       "<IPython.core.display.Markdown object>"
      ]
     },
     "metadata": {
      "text/markdown": {
       "action": "store",
       "command": "store domain_features in pubmed_derived_data",
       "finished": "2020-08-03T01:40:10.452984",
       "finished_human_readable": "Monday, 03. Aug 2020 01:40",
       "result": [
        {
         "new_file": {
          "crc32": "9CBD2CED",
          "sha256": "69E41B5E85F3320A8BED275B947ECA40F456F11EC6734F3E3BCDE4BD64EA9255"
         },
         "old_file": {
          "crc32": "02FA7AED",
          "sha256": "FBE800B8847F4D6E26AEF9343BAD9CCEF7C1314121C3658EFF07EDD89EDDE491"
         },
         "subject": "domain_features"
        }
       ],
       "started": "2020-08-03T01:40:09.310819"
      }
     },
     "output_type": "display_data"
    }
   ],
   "source": [
    "%vault store domain_features in pubmed_derived_data"
   ]
  }
 ],
 "metadata": {
  "kernelspec": {
   "display_name": "Python 3",
   "language": "python",
   "name": "python3"
  },
  "language_info": {
   "codemirror_mode": {
    "name": "ipython",
    "version": 3
   },
   "file_extension": ".py",
   "mimetype": "text/x-python",
   "name": "python",
   "nbconvert_exporter": "python",
   "pygments_lexer": "ipython3",
   "version": "3.8.3"
  }
 },
 "nbformat": 4,
 "nbformat_minor": 4
}
