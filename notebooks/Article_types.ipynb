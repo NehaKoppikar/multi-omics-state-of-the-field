{
 "cells": [
  {
   "cell_type": "markdown",
   "metadata": {},
   "source": [
    "**Aims**\n",
    "\n",
    "- check agreement between \"review\" annotation between article and publication type\n",
    "- attempt to create a model to classify articles into: \"Computational Method\", Review, (other) \"Research Article\", and Others, using:\n",
    "   - reviews as defined by article type and publication type\n",
    "   - research article is an article with \"research-article\" type which is not a review nor a method\n",
    "   - Computational Method are defined from manually filtered list of articles, using:\n",
    "     - PubMed Central subject tags,\n",
    "     - articles published in Bioinformatics (Oxford)\n",
    "     - articles from awesome-multi-omics list\n",
    "   - others are all other article types"
   ]
  },
  {
   "cell_type": "code",
   "execution_count": 1,
   "metadata": {},
   "outputs": [],
   "source": [
    "%run notebook_setup.ipynb"
   ]
  },
  {
   "cell_type": "code",
   "execution_count": 2,
   "metadata": {},
   "outputs": [
    {
     "data": {
      "text/markdown": [
       "Imported:\n",
       "\n",
       " - `literature` (904B0F94)\n",
       " - `literature_subjects` (98E10AF9)\n",
       "\n",
       "at Saturday, 25. Jul 2020 16:33"
      ],
      "text/plain": [
       "<IPython.core.display.Markdown object>"
      ]
     },
     "metadata": {
      "text/markdown": {
       "action": "import",
       "command": "from pubmed_derived_data import literature, literature_subjects",
       "finished": "2020-07-25T16:33:57.587776",
       "finished_human_readable": "Saturday, 25. Jul 2020 16:33",
       "result": [
        {
         "new_file": {
          "crc32": "904B0F94",
          "sha256": "A2EFC068A287A3B724AE4B320EE5356E1E99474BD08A2E2A3EBA34CD0194F23B"
         },
         "subject": "literature"
        },
        {
         "new_file": {
          "crc32": "98E10AF9",
          "sha256": "DDA318B4E0EC865063AB772B31DD156B2B8E9EA5531B59A0C04B97C70CD21AA9"
         },
         "subject": "literature_subjects"
        }
       ],
       "started": "2020-07-25T16:33:54.122994"
      }
     },
     "output_type": "display_data"
    },
    {
     "data": {
      "text/markdown": [
       "Imported `publication_types_list` (7DD4E741) at Saturday, 25. Jul 2020 16:33"
      ],
      "text/plain": [
       "<IPython.core.display.Markdown object>"
      ]
     },
     "metadata": {
      "text/markdown": {
       "action": "import",
       "command": "from pubmed_derived_data import publication_types as publication_types_list",
       "finished": "2020-07-25T16:33:58.096499",
       "finished_human_readable": "Saturday, 25. Jul 2020 16:33",
       "result": [
        {
         "new_file": {
          "crc32": "7DD4E741",
          "sha256": "BD0EBF88B38BB9E0E44923E2CB473A532AEFBFFC6A7FCC02926290CAD2615150"
         },
         "subject": "publication_types_list"
        }
       ],
       "started": "2020-07-25T16:33:57.591592"
      }
     },
     "output_type": "display_data"
    }
   ],
   "source": [
    "%vault from pubmed_derived_data import literature, literature_subjects\n",
    "%vault from pubmed_derived_data import publication_types as publication_types_list"
   ]
  },
  {
   "cell_type": "code",
   "execution_count": 3,
   "metadata": {},
   "outputs": [],
   "source": [
    "import pandas\n",
    "pandas.set_option('display.max_colwidth', 100)"
   ]
  },
  {
   "cell_type": "code",
   "execution_count": 4,
   "metadata": {},
   "outputs": [],
   "source": [
    "publication_types = (\n",
    "    literature[\n",
    "        'Is ' + Series(sorted(set(publication_types_list['0'])))\n",
    "    ]\n",
    "    .astype('object')\n",
    "    .fillna(False)\n",
    "    .rename(columns=lambda x: x.replace('Is ', ''))\n",
    ")"
   ]
  },
  {
   "cell_type": "markdown",
   "metadata": {},
   "source": [
    "### PM and PMC data"
   ]
  },
  {
   "cell_type": "markdown",
   "metadata": {},
   "source": [
    "There are three variables describing the article:\n",
    " - MeSH [Publication Types](https://www.nlm.nih.gov/mesh/pubtypes.html):\n",
    "   - `literature[f'Is {publication_type}']`: 1-m each article can be be assigned to multiple publication types\n",
    " - PMC-derived [article types and subjects](https://www.ncbi.nlm.nih.gov/pmc/pmcdoc/tagging-guidelines/article/dobs.html#dob-subjects):\n",
    "   - `literature.article_type`: article types use controlled vocabulary; 1-1 each article has only one article type\n",
    "   - `literature_subjects`: subjects are journal-specific and can describe both the content and type (sometimes are even used more like keywords/tags and include collection/conference names); 1-m"
   ]
  },
  {
   "cell_type": "markdown",
   "metadata": {},
   "source": [
    "The separation between actual research articles and reviews/opinions/editorials etc is quite easy with the publication and article types; however, distinguishing novel bioinformatic methods from the biological application of existing methods is a bit more tricky."
   ]
  },
  {
   "cell_type": "code",
   "execution_count": 5,
   "metadata": {},
   "outputs": [
    {
     "data": {
      "text/plain": [
       "Journal Article                             3370\n",
       "Research Support, Non-U.S. Gov't            1371\n",
       "Review                                       744\n",
       "Research Support, N.I.H., Extramural         460\n",
       "Research Support, U.S. Gov't, Non-P.H.S.     161\n",
       "Comparative Study                             61\n",
       "Editorial                                     44\n",
       "Comment                                       37\n",
       "Clinical Trial                                26\n",
       "Published Erratum                             23\n",
       "Multicenter Study                             21\n",
       "Research Support, N.I.H., Intramural          16\n",
       "Evaluation Study                              13\n",
       "Letter                                        13\n",
       "Case Reports                                   9\n",
       "Dataset                                        9\n",
       "Observational Study                            7\n",
       "Validation Study                               7\n",
       "Twin Study                                     7\n",
       "Introductory Journal Article                   7\n",
       "English Abstract                               6\n",
       "Video-Audio Media                              6\n",
       "Randomized Controlled Trial                    6\n",
       "Systematic Review                              6\n",
       "Research Support, U.S. Gov't, P.H.S.           5\n",
       "Meta-Analysis                                  5\n",
       "Congress                                       4\n",
       "Interview                                      3\n",
       "News                                           2\n",
       "Historical Article                             1\n",
       "Practice Guideline                             1\n",
       "Preprint                                       1\n",
       "Controlled Clinical Trial                      1\n",
       "Consensus Development Conference, NIH          1\n",
       "Clinical Trial, Phase II                       1\n",
       "dtype: int64"
      ]
     },
     "execution_count": 5,
     "metadata": {},
     "output_type": "execute_result"
    }
   ],
   "source": [
    "publication_types.sum().sort_values(ascending=False)"
   ]
  },
  {
   "cell_type": "code",
   "execution_count": 6,
   "metadata": {},
   "outputs": [
    {
     "data": {
      "text/plain": [
       "research-article      1566\n",
       "review-article         253\n",
       "brief-report            29\n",
       "editorial               26\n",
       "correction              17\n",
       "data-paper              13\n",
       "other                    8\n",
       "letter                   7\n",
       "article-commentary       7\n",
       "product-review           5\n",
       "methods-article          5\n",
       "discussion               5\n",
       "chapter-article          3\n",
       "protocol                 2\n",
       "meeting-report           2\n",
       "addendum                 1\n",
       "systematic-review        1\n",
       "abstract                 1\n",
       "Name: article_type, dtype: int64"
      ]
     },
     "execution_count": 6,
     "metadata": {},
     "output_type": "execute_result"
    }
   ],
   "source": [
    "literature.article_type.value_counts()"
   ]
  },
  {
   "cell_type": "code",
   "execution_count": 7,
   "metadata": {},
   "outputs": [
    {
     "data": {
      "text/plain": [
       "Article                         582\n",
       "Research Article                240\n",
       "Review                          163\n",
       "Research                        139\n",
       "Genetics                        109\n",
       "Original Research               100\n",
       "Research Paper                   67\n",
       "Biology and Life Sciences        61\n",
       "Biochemistry                     53\n",
       "Microbiology                     51\n",
       "Genomics                         47\n",
       "Computational Biology            44\n",
       "Original Article                 43\n",
       "Medicine and Health Sciences     42\n",
       "Articles                         39\n",
       "Review Article                   35\n",
       "Gene Expression                  34\n",
       "Genome Analysis                  31\n",
       "Research Articles                30\n",
       "Systems Biology                  30\n",
       "dtype: int64"
      ]
     },
     "execution_count": 7,
     "metadata": {},
     "output_type": "execute_result"
    }
   ],
   "source": [
    "literature_subjects.sum().sort_values(ascending=False).head(20)"
   ]
  },
  {
   "cell_type": "markdown",
   "metadata": {},
   "source": [
    "Excerpts from the [PMC documentation](https://www.ncbi.nlm.nih.gov/pmc/pmcdoc/tagging-guidelines/article/dobs.html#dob-subjects):\n",
    "   \n",
    "> Do not confuse article subjects and article types. Article subjects may be any text that identifies the content of the article (Physical Sciences, Psychology) or the type of article (Editorial, Obituary). The required article-type attribute must specify the type of article using only the values specified by PMC (see article).\n",
    "\n",
    "> article-type - Most of the articles should have the value of \"research-article\". Allowed values are: \"abstract\", \"addendum\", \"announcement\", \"article-commentary\", \"book-review\", \"books-received\", \"brief-report\", \"calendar\", \"case-report\", \"correction\", \"data-paper\" (v2.3 must use Green), \"discussion\", \"editorial\", \"expression-of-concern\" (v2.3 must use Green), \"in-brief\", \"introduction \", \"letter\", \"meeting-report\", \"methods-article\" (v2.3 must use Green), \"news\", \"obituary\", \"oration \", \"other\", \"product-review\", \"reply\", \"research-article\", \"retraction\", \"review-article\", \"systematic-review\" (v2.3 must use Green).\n",
    "\n",
    "The descriptions of the above are available [in the tagging guidelines here](https://www.ncbi.nlm.nih.gov/pmc/pmcdoc/tagging-guidelines/article/dobs.html#dob-arttype)."
   ]
  },
  {
   "cell_type": "markdown",
   "metadata": {},
   "source": [
    "### Check agreement on the review type"
   ]
  },
  {
   "cell_type": "code",
   "execution_count": 8,
   "metadata": {},
   "outputs": [
    {
     "data": {
      "text/plain": [
       "744"
      ]
     },
     "execution_count": 8,
     "metadata": {},
     "output_type": "execute_result"
    }
   ],
   "source": [
    "is_publication_type_review = literature['Is Review'] == True\n",
    "is_publication_type_review.sum()"
   ]
  },
  {
   "cell_type": "code",
   "execution_count": 9,
   "metadata": {},
   "outputs": [
    {
     "data": {
      "text/plain": [
       "253"
      ]
     },
     "execution_count": 9,
     "metadata": {},
     "output_type": "execute_result"
    }
   ],
   "source": [
    "is_article_type_review = literature['article_type'] == 'review-article'\n",
    "is_article_type_review.sum()"
   ]
  },
  {
   "cell_type": "code",
   "execution_count": 10,
   "metadata": {},
   "outputs": [
    {
     "data": {
      "text/html": [
       "<div>\n",
       "<style scoped>\n",
       "    .dataframe tbody tr th:only-of-type {\n",
       "        vertical-align: middle;\n",
       "    }\n",
       "\n",
       "    .dataframe tbody tr th {\n",
       "        vertical-align: top;\n",
       "    }\n",
       "\n",
       "    .dataframe thead th {\n",
       "        text-align: right;\n",
       "    }\n",
       "</style>\n",
       "<table border=\"1\" class=\"dataframe\">\n",
       "  <thead>\n",
       "    <tr style=\"text-align: right;\">\n",
       "      <th></th>\n",
       "      <th>publication_type</th>\n",
       "      <th>article_type</th>\n",
       "    </tr>\n",
       "    <tr>\n",
       "      <th>uid</th>\n",
       "      <th></th>\n",
       "      <th></th>\n",
       "    </tr>\n",
       "  </thead>\n",
       "  <tbody>\n",
       "    <tr>\n",
       "      <th>12186644</th>\n",
       "      <td>False</td>\n",
       "      <td>False</td>\n",
       "    </tr>\n",
       "    <tr>\n",
       "      <th>15687693</th>\n",
       "      <td>False</td>\n",
       "      <td>False</td>\n",
       "    </tr>\n",
       "    <tr>\n",
       "      <th>15687700</th>\n",
       "      <td>False</td>\n",
       "      <td>False</td>\n",
       "    </tr>\n",
       "  </tbody>\n",
       "</table>\n",
       "</div>"
      ],
      "text/plain": [
       "          publication_type  article_type\n",
       "uid                                     \n",
       "12186644             False         False\n",
       "15687693             False         False\n",
       "15687700             False         False"
      ]
     },
     "execution_count": 10,
     "metadata": {},
     "output_type": "execute_result"
    }
   ],
   "source": [
    "from pandas import concat\n",
    "\n",
    "is_review = concat([\n",
    "    is_publication_type_review.rename('publication_type'),\n",
    "    is_article_type_review\n",
    "], axis=1)\n",
    "is_review.head(3)"
   ]
  },
  {
   "cell_type": "markdown",
   "metadata": {},
   "source": [
    "Shared subset:"
   ]
  },
  {
   "cell_type": "code",
   "execution_count": 11,
   "metadata": {},
   "outputs": [
    {
     "data": {
      "text/plain": [
       "235"
      ]
     },
     "execution_count": 11,
     "metadata": {},
     "output_type": "execute_result"
    }
   ],
   "source": [
    "is_review.all(axis=1).sum()"
   ]
  },
  {
   "cell_type": "markdown",
   "metadata": {},
   "source": [
    "#### What `article_type` do the articles with \"Review\" only in `publication_type` have?"
   ]
  },
  {
   "cell_type": "code",
   "execution_count": 12,
   "metadata": {},
   "outputs": [
    {
     "data": {
      "text/plain": [
       "509"
      ]
     },
     "execution_count": 12,
     "metadata": {},
     "output_type": "execute_result"
    }
   ],
   "source": [
    "is_review_by_publication_type_only = is_review.publication_type & ~is_review.article_type\n",
    "sum(is_review_by_publication_type_only)"
   ]
  },
  {
   "cell_type": "markdown",
   "metadata": {},
   "source": [
    "The vast majority has none - this is because article type is derived from PMC which is a subset of PM:"
   ]
  },
  {
   "cell_type": "code",
   "execution_count": 13,
   "metadata": {},
   "outputs": [
    {
     "data": {
      "text/plain": [
       "(423, 83.1041257367387)"
      ]
     },
     "execution_count": 13,
     "metadata": {},
     "output_type": "execute_result"
    }
   ],
   "source": [
    "no_art_type = literature[is_review_by_publication_type_only].article_type.isnull().sum()\n",
    "no_art_type, no_art_type / sum(is_review_by_publication_type_only) * 100"
   ]
  },
  {
   "cell_type": "markdown",
   "metadata": {},
   "source": [
    "But if they are annotated, those most commonly have \"research article\" (which is the default in PMC annotation guidelines - bias!):"
   ]
  },
  {
   "cell_type": "code",
   "execution_count": 14,
   "metadata": {},
   "outputs": [
    {
     "data": {
      "text/plain": [
       "research-article    78\n",
       "editorial            3\n",
       "brief-report         2\n",
       "chapter-article      2\n",
       "other                1\n",
       "Name: article_type, dtype: int64"
      ]
     },
     "execution_count": 14,
     "metadata": {},
     "output_type": "execute_result"
    }
   ],
   "source": [
    "literature[is_review_by_publication_type_only].article_type.value_counts().head(5)"
   ]
  },
  {
   "cell_type": "markdown",
   "metadata": {},
   "source": [
    "What subjects do they have?"
   ]
  },
  {
   "cell_type": "code",
   "execution_count": 15,
   "metadata": {},
   "outputs": [
    {
     "data": {
      "text/plain": [
       "Article           56\n",
       "Review Article     4\n",
       "Paper              2\n",
       "Survey             2\n",
       "Metabolomics       2\n",
       "dtype: int64"
      ]
     },
     "execution_count": 15,
     "metadata": {},
     "output_type": "execute_result"
    }
   ],
   "source": [
    "literature_subjects[is_review_by_publication_type_only].sum().sort_values(ascending=False).head(5)"
   ]
  },
  {
   "cell_type": "markdown",
   "metadata": {},
   "source": [
    "#### What `publication_type` do the articles with \"Review\" only in `article_type` have?"
   ]
  },
  {
   "cell_type": "code",
   "execution_count": 16,
   "metadata": {},
   "outputs": [
    {
     "data": {
      "text/plain": [
       "18"
      ]
     },
     "execution_count": 16,
     "metadata": {},
     "output_type": "execute_result"
    }
   ],
   "source": [
    "is_review_by_article_type_only = ~is_review.publication_type & is_review.article_type\n",
    "sum(is_review_by_article_type_only)"
   ]
  },
  {
   "cell_type": "markdown",
   "metadata": {},
   "source": [
    "Nothing unexpected:"
   ]
  },
  {
   "cell_type": "code",
   "execution_count": 17,
   "metadata": {},
   "outputs": [
    {
     "data": {
      "text/plain": [
       "Journal Article                             17\n",
       "Research Support, Non-U.S. Gov't             4\n",
       "Research Support, N.I.H., Extramural         2\n",
       "Systematic Review                            1\n",
       "Research Support, U.S. Gov't, Non-P.H.S.     1\n",
       "News                                         1\n",
       "Controlled Clinical Trial                    0\n",
       "Historical Article                           0\n",
       "dtype: int64"
      ]
     },
     "execution_count": 17,
     "metadata": {},
     "output_type": "execute_result"
    }
   ],
   "source": [
    "publication_types[is_review_by_article_type_only].sum().sort_values(ascending=False).head(8)"
   ]
  },
  {
   "cell_type": "code",
   "execution_count": 18,
   "metadata": {},
   "outputs": [
    {
     "data": {
      "text/plain": [
       "Review             4\n",
       "Review Article     2\n",
       "Perspective        2\n",
       "Review Articles    2\n",
       "Reviews            1\n",
       "dtype: int64"
      ]
     },
     "execution_count": 18,
     "metadata": {},
     "output_type": "execute_result"
    }
   ],
   "source": [
    "literature_subjects[is_review_by_article_type_only].sum().sort_values(ascending=False).head(5)"
   ]
  },
  {
   "cell_type": "code",
   "execution_count": 19,
   "metadata": {},
   "outputs": [
    {
     "data": {
      "text/plain": [
       "uid\n",
       "22303399               When one and one gives more than two: challenges and opportunities of integrative omics.\n",
       "23105932                         Perspectives of integrative cancer genomics in next generation sequencing era.\n",
       "23937857                                           Idiopathic pulmonary fibrosis: the need for early diagnosis.\n",
       "24910945    MOPED 2.5--an integrated multi-omics resource: multi-omics profiling expression database now inc...\n",
       "24958149    Coordinating metabolite changes with our perception of plant abiotic stress responses: emerging ...\n",
       "27212022                                              Multi-Omics of Single Cells: Strategies and Applications.\n",
       "29301609                               Integration of metabolomics and transcriptomics in nanotoxicity studies.\n",
       "29356624          From Genomics to Omics Landscapes of Parkinson's Disease: Revealing the Molecular Mechanisms.\n",
       "29733683             Biobanking in a Challenging African Environment: Unique Experience from the SIREN Project.\n",
       "29878063    Role of genetics in the prediction of statin-associated muscle symptoms and optimization of stat...\n",
       "30602078        Single-Cell Ssequencing in Cancer: Recent Applications to Immunogenomics and Multi-omics Tools.\n",
       "31142853                                                              The Integrative Human Microbiome Project.\n",
       "31357272                     Recent insight and future techniques to enhance rumen fermentation in dairy goats.\n",
       "31498131    Increasing Comparability and Utility of Gut Microbiome Studies in Parkinson's Disease: A Systema...\n",
       "31891371             A multiomics approach to heterogeneity in Alzheimer's disease: focused review and roadmap.\n",
       "31891667                                                    Omics Integration for Mitochondria Systems Biology.\n",
       "32129623                                                             Structural Biology in the Multi-Omics Era.\n",
       "32329102    Application of a portable instrument for rapid and reliable detection of SARS-CoV-2 infection in...\n",
       "Name: title, dtype: object"
      ]
     },
     "execution_count": 19,
     "metadata": {},
     "output_type": "execute_result"
    }
   ],
   "source": [
    "literature[is_review_by_article_type_only].title"
   ]
  },
  {
   "cell_type": "markdown",
   "metadata": {},
   "source": [
    "Out of 17 above, MOPED is not a review but databased announcment. By the way, this database seems to be dead now (2020)."
   ]
  },
  {
   "cell_type": "markdown",
   "metadata": {},
   "source": [
    "### Limitations of the PM and PMC data - Method Articles"
   ]
  },
  {
   "cell_type": "markdown",
   "metadata": {},
   "source": [
    "While article-type \"Methods Article\" exists, it is rarely used and many articles which are considered as Method Articles are instead tagged as \"Research Article\":"
   ]
  },
  {
   "cell_type": "code",
   "execution_count": 20,
   "metadata": {},
   "outputs": [],
   "source": [
    "from pandas import Series\n",
    "some_method_subjects = Series(['Method Article', 'Method', 'Methodology Article', 'Research and Analysis Methods'])"
   ]
  },
  {
   "cell_type": "code",
   "execution_count": 21,
   "metadata": {},
   "outputs": [
    {
     "data": {
      "text/plain": [
       "54"
      ]
     },
     "execution_count": 21,
     "metadata": {},
     "output_type": "execute_result"
    }
   ],
   "source": [
    "is_research_article = literature.article_type == 'research-article'\n",
    "has_method_subject = literature_subjects[some_method_subjects].any(axis=1)\n",
    "research_article_tagged_as_method = (\n",
    "    is_research_article\n",
    "    &\n",
    "    has_method_subject\n",
    ")\n",
    "sum(research_article_tagged_as_method)"
   ]
  },
  {
   "cell_type": "code",
   "execution_count": 22,
   "metadata": {},
   "outputs": [
    {
     "data": {
      "text/plain": [
       "uid\n",
       "21619611    Identifier mapping performance for integrating transcriptomics and proteomics experimental results.\n",
       "24830643         Cross-platform toxicogenomics for the prediction of non-genotoxic hepatocarcinogenesis in rat.\n",
       "24884486                                    A multivariate approach to the integration of multi-omics datasets.\n",
       "25137136    Integrating multi-omics for uncovering the architecture of cross-talking pathways in breast cancer.\n",
       "25149441                      Using Galaxy-P to leverage RNA-Seq for the discovery of novel protein variations.\n",
       "26560100    Integrative phenotyping framework (iPF): integrative clustering of multiple omics data identifie...\n",
       "26626453    Fast dimension reduction and integrative clustering of multi-omics data using low-rank approxima...\n",
       "26864072    Integrative modeling of multi-omics data to identify cancer drivers and infer patient-specific g...\n",
       "27042856      Identification of Epigenetic Biomarkers of Lung Adenocarcinoma through Multi-Omics Data Analysis.\n",
       "27100883     OM-FBA: Integrate Transcriptomics Data with Flux Balance Analysis to Decipher the Cell Metabolism.\n",
       "Name: title, dtype: object"
      ]
     },
     "execution_count": 22,
     "metadata": {},
     "output_type": "execute_result"
    }
   ],
   "source": [
    "literature[research_article_tagged_as_method].title.head(10)"
   ]
  },
  {
   "cell_type": "markdown",
   "metadata": {},
   "source": [
    "Even worse, many multi-omics methods are neither tagged as Method Articles nor have an appropriate subject:"
   ]
  },
  {
   "cell_type": "code",
   "execution_count": 23,
   "metadata": {},
   "outputs": [],
   "source": [
    "some_method_keywords = ['method', 'workflow', 'omics approach', 'framework']"
   ]
  },
  {
   "cell_type": "code",
   "execution_count": 24,
   "metadata": {},
   "outputs": [],
   "source": [
    "methods_research_articles_not_tagged_as_methods = (\n",
    "    is_research_article\n",
    "    &\n",
    "    ~has_method_subject\n",
    "    &\n",
    "    literature.title.str.contains('|'.join(some_method_keywords))\n",
    ")"
   ]
  },
  {
   "cell_type": "code",
   "execution_count": 25,
   "metadata": {},
   "outputs": [
    {
     "data": {
      "text/plain": [
       "uid\n",
       "20090827         An integrative -omics approach to identify functional sub-networks in human colorectal cancer.\n",
       "20675464       A new biodosimetric method: branched DNA-based quantitative detection of B1 DNA in mouse plasma.\n",
       "20863252    Dynamics of time-lagged gene-to-metabolite networks of Escherichia coli elucidated by integrativ...\n",
       "21349178    Multi-omics approach to study the growth efficiency and amino acid metabolism in Lactococcus lac...\n",
       "22319563    ECOMICS: a web-based toolkit for investigating the biomolecular web in ecosystems using a trans-...\n",
       "                                                           ...                                                 \n",
       "31856718    Knowledge Base Commons (KBCommons) v1.1: a universal framework for multi-omics data integration ...\n",
       "32170290                               Integrated multi-omics framework of the plant response to jasmonic acid.\n",
       "32409713    Integrative genomics approach identifies molecular features associated with early-stage ovarian ...\n",
       "32444635    An integrated multi-omics approach identifies the landscape of interferon-α-mediated responses o...\n",
       "32494569    An integrated research framework combining genomics, systems biology, physiology, modelling and ...\n",
       "Name: title, Length: 68, dtype: object"
      ]
     },
     "execution_count": 25,
     "metadata": {},
     "output_type": "execute_result"
    }
   ],
   "source": [
    "literature[methods_research_articles_not_tagged_as_methods].title"
   ]
  },
  {
   "cell_type": "markdown",
   "metadata": {},
   "source": [
    "This can be further exemplified on the Bioinformatics publications, which are almost all methods/tools, but none of them is labeled as such:"
   ]
  },
  {
   "cell_type": "code",
   "execution_count": 26,
   "metadata": {},
   "outputs": [
    {
     "data": {
      "text/plain": [
       "research-article     33\n",
       "brief-report          2\n",
       "systematic-review     0\n",
       "Name: article_type, dtype: int64"
      ]
     },
     "execution_count": 26,
     "metadata": {},
     "output_type": "execute_result"
    }
   ],
   "source": [
    "in_bioinformatics = literature[literature.journal == 'Bioinformatics (Oxford, England)']\n",
    "in_bioinformatics['article_type'].value_counts().head(3)"
   ]
  },
  {
   "cell_type": "code",
   "execution_count": 27,
   "metadata": {},
   "outputs": [
    {
     "data": {
      "text/plain": [
       "Original Papers                          23\n",
       "Systems Biology                          13\n",
       "Genome Analysis                           6\n",
       "Applications Notes                        6\n",
       "Gene Expression                           3\n",
       "Sequence Analysis                         3\n",
       "Ismb/Eccb 2019 Conference Proceedings     2\n",
       "Databases and Ontologies                  2\n",
       "Genetics and Population Analysis          2\n",
       "Systems Biology and Networks              1\n",
       "dtype: int64"
      ]
     },
     "execution_count": 27,
     "metadata": {},
     "output_type": "execute_result"
    }
   ],
   "source": [
    "literature_subjects.loc[in_bioinformatics.index].sum().sort_values(ascending=False).head(10)"
   ]
  },
  {
   "cell_type": "markdown",
   "metadata": {},
   "source": [
    "Yet, almost all papers publish in Bioinformatics describe a new method/tool!"
   ]
  },
  {
   "cell_type": "code",
   "execution_count": 28,
   "metadata": {},
   "outputs": [
    {
     "data": {
      "text/plain": [
       "uid\n",
       "17468122                                                                              GAzer: gene set analyzer.\n",
       "18434345    Annotation-Modules: a tool for finding significant combinations of multisource annotations for g...\n",
       "19706745                         integrOmics: an R package to unravel relationships between two omics datasets.\n",
       "20529914      Integrating quantitative proteomics and metabolomics with a genome-scale metabolic network model.\n",
       "21666268                                                MGV: a generic graph viewer for comparative omics data.\n",
       "                                                           ...                                                 \n",
       "32407457    iSOM-GSN: An Integrative Approach for Transforming Multi-omic Data into Gene Similarity Networks...\n",
       "32437529    Integrating multi-OMICS data through sparse Canonical Correlation Analysis for the prediction of...\n",
       "32657371    AITL: Adversarial Inductive Transfer Learning with input and output space adaptation for pharmac...\n",
       "32657382                            Unsupervised topological alignment for single-cell multi-omics integration.\n",
       "32692809    Manuscript Strategy for improved characterisation of human metabolic phenotypes using a COmbined...\n",
       "Name: title, Length: 68, dtype: object"
      ]
     },
     "execution_count": 28,
     "metadata": {},
     "output_type": "execute_result"
    }
   ],
   "source": [
    "in_bioinformatics.title"
   ]
  },
  {
   "cell_type": "markdown",
   "metadata": {},
   "source": [
    "### "
   ]
  },
  {
   "cell_type": "markdown",
   "metadata": {},
   "source": [
    "# Classify a subset of articles into the four classes"
   ]
  },
  {
   "cell_type": "markdown",
   "metadata": {},
   "source": [
    "> Q: Can an article be both review, novel method, \"research article\" and other?"
   ]
  },
  {
   "cell_type": "markdown",
   "metadata": {},
   "source": [
    "There are novel methods which also include original research, but goingin into full multilabel classification might be more difficult in interpretation.."
   ]
  },
  {
   "cell_type": "markdown",
   "metadata": {},
   "source": [
    "## Reviews"
   ]
  },
  {
   "cell_type": "code",
   "execution_count": 29,
   "metadata": {},
   "outputs": [],
   "source": [
    "review_subjects = ['Review', 'Mini-Review', 'Review Article']"
   ]
  },
  {
   "cell_type": "markdown",
   "metadata": {},
   "source": [
    "I will use point-based system, adding:\n",
    "  - 1 point for `publication_type == 'Review'`, 0 otherwise\n",
    "  - 1 point for `article_type == 'review-article'`, 0 otherwise\n",
    "  - 1 point for `subject in review_subjects`"
   ]
  },
  {
   "cell_type": "markdown",
   "metadata": {},
   "source": [
    "<s>Which will be turned into following pseudo-probabilities:</s>\n",
    "  - 1 (certainly a review) for 2 or more points (i.e. for having at least two confirmation sources)\n",
    "  - 0.5 (maybe a review) for 1 point\n",
    "  - 0 (not a review) for 0 points\n",
    "  \n",
    "> Q: Why not to use 1/3, 2/3 and 3/3 as the pseudo-probabilities?\n",
    "\n",
    "<s>Because the `subject` and `article_type` are not independent! Both are entered into the PMC by the submitter who is likely to choose `article_type` based on the `subjects`.</s>\n",
    "\n",
    "For simplicity, for now using a simpler but less powerful \"any\" criterion - does any source mention that this is a review?"
   ]
  },
  {
   "cell_type": "markdown",
   "metadata": {},
   "source": [
    "> Q: should systematic reviews be included as well?\n",
    "\n",
    "Maybe. My hypothesis is that there are quite many reviews obstructing the overview analysis (i.e. mentioning various omics terms but - obviously - not actually using them; some omics may be popular in reviews, but actually difficult to integrate and therefore rarely used in the actual research!). Given this hypothesis, systematic reviews are not the type of reviews I am interested in (to single out)."
   ]
  },
  {
   "cell_type": "markdown",
   "metadata": {},
   "source": [
    "> Q: could we use Bayesian inference?\n",
    "\n",
    "Maybe. The information on missingness could be also utilized, as well as title features (i.e. whether \"review\" is mentioned in the title) but this is outside of scope of this analysis."
   ]
  },
  {
   "cell_type": "code",
   "execution_count": 30,
   "metadata": {},
   "outputs": [
    {
     "data": {
      "image/png": "[encoded data removed]",
      "text/plain": [
       "<Figure size 432x288 with 1 Axes>"
      ]
     },
     "metadata": {
      "needs_background": "light"
     },
     "output_type": "display_data"
    }
   ],
   "source": [
    "review_score = (\n",
    "    publication_types['Review'].astype(int)\n",
    "    +\n",
    "    (literature.article_type == 'review-article').astype(int)\n",
    "    +\n",
    "    literature_subjects[review_subjects].any(axis=1).astype(int)\n",
    ")\n",
    "review_score.hist();"
   ]
  },
  {
   "cell_type": "code",
   "execution_count": 31,
   "metadata": {},
   "outputs": [
    {
     "data": {
      "image/png": "[encoded data removed]",
      "text/plain": [
       "<Figure size 432x288 with 1 Axes>"
      ]
     },
     "metadata": {
      "needs_background": "light"
     },
     "output_type": "display_data"
    }
   ],
   "source": [
    "review_pseudo_probability = review_score.map({3: 1, 2: 1, 1: 0.5, 0: 0})\n",
    "review_pseudo_probability.hist();"
   ]
  },
  {
   "cell_type": "code",
   "execution_count": 32,
   "metadata": {},
   "outputs": [
    {
     "data": {
      "text/plain": [
       "245"
      ]
     },
     "execution_count": 32,
     "metadata": {},
     "output_type": "execute_result"
    }
   ],
   "source": [
    "sum(review_pseudo_probability == 1)"
   ]
  },
  {
   "cell_type": "markdown",
   "metadata": {},
   "source": [
    "## Computational methods"
   ]
  },
  {
   "cell_type": "markdown",
   "metadata": {},
   "source": [
    "Methods are assembled from:\n",
    "   - manually filtered list of articles narrowing down from articles with subject \"Method\", \"Method Article\", \"Methodology\"\n",
    "   - methods from awesome-multi-omics list (i.e. excluding reviews, conferences etc)\n",
    "   - manually filtered list or articles published in Bioinformatics (Oxford)\n",
    "\n",
    "By Computational Method I mean any of the following:\n",
    "  - a novel algorithm, statistical method or framework\n",
    "  - a re-implementation of a framework/tool with existing algorithms even with only minor improvements over predecessors\n",
    "  - a web-server providing capability to run statistical analysis - whether novel or not\n",
    "\n",
    "Excluding:\n",
    "  - research papers whose main contribution is application of a method (whether recent/advanced or not) to a novel dataset, e.g.:\n",
    "     - [\"Computationally expanding infinium HumanMethylation450 BeadChip array data to reveal distinct DNA methylation patterns of rheumatoid arthritis.\"](https://doi.org/10.1093/bioinformatics/btw089)\n",
    "     - [\"Global proteomics profiling improves drug sensitivity prediction: results from a multi-omics, pan-cancer modeling approach.\"](https://doi.org/10.1093/bioinformatics/btx766)\n",
    "     - [\"Multi-omics reveals functional genomic and metabolic mechanisms of milk production and quality in dairy cows.\"](https://doi.org/10.1093/bioinformatics/btz951)\n",
    "  - web-servers providing database functionality only (without data analysis, not counting simple annotation)"
   ]
  },
  {
   "cell_type": "code",
   "execution_count": 33,
   "metadata": {},
   "outputs": [],
   "source": [
    "from pandas import read_csv\n",
    "\n",
    "\n",
    "def prepare_for_manual_annotation(data):\n",
    "    return (\n",
    "        data[['title']]\n",
    "        .assign(\n",
    "            link='https://doi.org/' + data.doi,\n",
    "            is_comp_method='',\n",
    "            # is a package implementing a computational algorithm(s)?\n",
    "            is_tool='',\n",
    "            # is database/annotation helper tool (not database itself)\n",
    "            is_annotation_tool='',\n",
    "            is_database='',\n",
    "            # is application of multi-omic methods to a novel reasearch\n",
    "            is_application='',\n",
    "            # is a study dedicated to benchmarking?\n",
    "            is_benchmark='',\n",
    "            # has at least one comparison to other methods?\n",
    "            has_comparisons='',\n",
    "            comment=''\n",
    "        )\n",
    "    )\n",
    "\n",
    "\n",
    "def annotated_as_method_or_tool(annotations):\n",
    "    return (\n",
    "        (annotations.set_index('uid').reindex(literature.index)[['is_comp_method', 'is_tool']] == 'y')\n",
    "        .any(axis=1)\n",
    "    )\n",
    "\n",
    "def check_annotations(annotations, reference):\n",
    "    if set(annotations.title) != set(reference.title):\n",
    "        a = set(annotations.title)\n",
    "        r = set(reference.title)\n",
    "        raise ValueError(f'{a - r} missing, {r - a} too much')\n",
    "    assert set(annotations.uid) == set(reference.index)\n",
    "    for column in ['is_comp_method', 'is_tool', 'is_annotation_tool', 'is_database', 'is_application', 'is_benchmark', 'has_comparisons']:\n",
    "        assert set(annotations[column].dropna()) - {'y'} == set()\n",
    "\n",
    "\n",
    "methods_annotations = Path('manual_curation/computational_methods')"
   ]
  },
  {
   "cell_type": "markdown",
   "metadata": {},
   "source": [
    "### Methods from subjects"
   ]
  },
  {
   "cell_type": "code",
   "execution_count": 34,
   "metadata": {},
   "outputs": [],
   "source": [
    "def find_subjects(regexp):\n",
    "    counts = literature_subjects.sum().sort_values(ascending=False)\n",
    "    return counts.loc[counts.index.str.lower().str.contains(regexp)]"
   ]
  },
  {
   "cell_type": "code",
   "execution_count": 35,
   "metadata": {},
   "outputs": [
    {
     "data": {
      "text/plain": [
       "Research and Analysis Methods       24\n",
       "Methodology Article                 19\n",
       "Method                              13\n",
       "Methods                             11\n",
       "Methodology                         10\n",
       "Database and Informatics Methods     8\n",
       "Statistical Methods                  5\n",
       "Research and analysis methods        4\n",
       "Methods and Resources                2\n",
       "Methods Online                       2\n",
       "Methods and Protocols                1\n",
       "Experimental Biophysical Methods     1\n",
       "Method Article                       1\n",
       "dtype: int64"
      ]
     },
     "execution_count": 35,
     "metadata": {},
     "output_type": "execute_result"
    }
   ],
   "source": [
    "method_subjects_counts = find_subjects('method')\n",
    "method_subjects_counts"
   ]
  },
  {
   "cell_type": "code",
   "execution_count": 36,
   "metadata": {},
   "outputs": [],
   "source": [
    "ignored_method_subjects = {'Experimental Biophysical Methods'}\n",
    "assert ignored_method_subjects - set(method_subjects_counts.index) == set()"
   ]
  },
  {
   "cell_type": "code",
   "execution_count": 37,
   "metadata": {},
   "outputs": [
    {
     "data": {
      "text/plain": [
       "['Database and Informatics Methods',\n",
       " 'Method',\n",
       " 'Method Article',\n",
       " 'Methodology',\n",
       " 'Methodology Article',\n",
       " 'Methods',\n",
       " 'Methods Online',\n",
       " 'Methods and Protocols',\n",
       " 'Methods and Resources',\n",
       " 'Research and Analysis Methods',\n",
       " 'Research and analysis methods',\n",
       " 'Statistical Methods']"
      ]
     },
     "execution_count": 37,
     "metadata": {},
     "output_type": "execute_result"
    }
   ],
   "source": [
    "method_subjects = sorted(set(method_subjects_counts.index) - ignored_method_subjects)\n",
    "method_subjects"
   ]
  },
  {
   "cell_type": "code",
   "execution_count": 38,
   "metadata": {},
   "outputs": [
    {
     "data": {
      "text/plain": [
       "81"
      ]
     },
     "execution_count": 38,
     "metadata": {},
     "output_type": "execute_result"
    }
   ],
   "source": [
    "has_method_subject = literature_subjects[method_subjects].any(axis=1)\n",
    "sum(has_method_subject)"
   ]
  },
  {
   "cell_type": "code",
   "execution_count": 39,
   "metadata": {},
   "outputs": [
    {
     "data": {
      "text/plain": [
       "PloS one                      17\n",
       "BMC bioinformatics            16\n",
       "Genome biology                 9\n",
       "PLoS computational biology     4\n",
       "BMC genomics                   4\n",
       "Genome research                3\n",
       "Frontiers in microbiology      2\n",
       "Nucleic acids research         2\n",
       "Cancer informatics             2\n",
       "Frontiers in genetics          2\n",
       "Name: journal, dtype: int64"
      ]
     },
     "execution_count": 39,
     "metadata": {},
     "output_type": "execute_result"
    }
   ],
   "source": [
    "candidates_articles_for_methods = literature[has_method_subject]\n",
    "candidates_articles_for_methods.journal.value_counts().head(10)"
   ]
  },
  {
   "cell_type": "markdown",
   "metadata": {},
   "source": [
    "Note: No _Bionformatics (Oxford, UK)_ articles tagged as a method!"
   ]
  },
  {
   "cell_type": "code",
   "execution_count": 40,
   "metadata": {},
   "outputs": [],
   "source": [
    "(\n",
    "    prepare_for_manual_annotation(candidates_articles_for_methods)\n",
    "    .to_csv(methods_annotations / 'subjects-blank.csv')\n",
    ")"
   ]
  },
  {
   "cell_type": "code",
   "execution_count": 41,
   "metadata": {},
   "outputs": [],
   "source": [
    "annotation_for_subjects = read_csv(methods_annotations / 'subjects-annotated.csv')\n",
    "check_annotations(annotation_for_subjects, candidates_articles_for_methods)"
   ]
  },
  {
   "cell_type": "code",
   "execution_count": 42,
   "metadata": {},
   "outputs": [
    {
     "data": {
      "text/plain": [
       "(0.5432098765432098, 0.08641975308641975)"
      ]
     },
     "execution_count": 42,
     "metadata": {},
     "output_type": "execute_result"
    }
   ],
   "source": [
    "(annotation_for_subjects.is_comp_method == 'y').mean(), (annotation_for_subjects.is_tool == 'y').mean()"
   ]
  },
  {
   "cell_type": "code",
   "execution_count": 43,
   "metadata": {},
   "outputs": [],
   "source": [
    "is_method_for_subjects = annotated_as_method_or_tool(annotation_for_subjects)"
   ]
  },
  {
   "cell_type": "markdown",
   "metadata": {},
   "source": [
    "### Methods from awesome-multi-omics"
   ]
  },
  {
   "cell_type": "code",
   "execution_count": 44,
   "metadata": {},
   "outputs": [
    {
     "data": {
      "text/plain": [
       "97"
      ]
     },
     "execution_count": 44,
     "metadata": {},
     "output_type": "execute_result"
    }
   ],
   "source": [
    "from pathlib import Path\n",
    "from helpers.awesome import get_between_headers, extract_references\n",
    "\n",
    "amo_software_and_methods_header = '## Software packages and methods'\n",
    "amo_reviews_header = '## Multi-omics reviews / evaluations'\n",
    "amo_applications_header = '## Multi-omics application papers'\n",
    "amo_data_header = '## Multi-omics data management'\n",
    "\n",
    "community_curated_list = (\n",
    "    Path('data/awesome-multi-omics-README.md')\n",
    "    .read_text().splitlines()\n",
    ")\n",
    "\n",
    "amo_methods = get_between_headers(\n",
    "    community_curated_list,\n",
    "    start=amo_software_and_methods_header, end=amo_reviews_header\n",
    ")\n",
    "len(amo_methods)"
   ]
  },
  {
   "cell_type": "code",
   "execution_count": 45,
   "metadata": {},
   "outputs": [
    {
     "data": {
      "text/plain": [
       "{'doi': 41, 'pubmed': 6, 'pubmed_central': 17}"
      ]
     },
     "execution_count": 45,
     "metadata": {},
     "output_type": "execute_result"
    }
   ],
   "source": [
    "amo_methods_references = extract_references(amo_methods)\n",
    "{k: len(v) for k, v in amo_methods_references.items()}"
   ]
  },
  {
   "cell_type": "code",
   "execution_count": 46,
   "metadata": {},
   "outputs": [
    {
     "data": {
      "text/plain": [
       "13               10.1101/046904\n",
       "20               10.1101/519207\n",
       "38    10.1101/2020.04.01.020685\n",
       "39               10.1101/344309\n",
       "dtype: object"
      ]
     },
     "execution_count": 46,
     "metadata": {},
     "output_type": "execute_result"
    }
   ],
   "source": [
    "amo_dois = Series(amo_methods_references['doi'])\n",
    "bioarchive_dois = amo_dois[amo_dois.str.startswith('10.1101')]\n",
    "bioarchive_dois"
   ]
  },
  {
   "cell_type": "code",
   "execution_count": 47,
   "metadata": {},
   "outputs": [],
   "source": [
    "not_yet_published = {\n",
    "    '10.1101/519207'\n",
    "}\n",
    "\n",
    "preprint_to_final_publication = {\n",
    "    '10.1101/046904': '10.1074/mcp.TIR118.001251',\n",
    "    '10.1101/2020.04.01.020685': '10.3389/fonc.2020.01065',\n",
    "    '10.1101/344309': '10.1186/s13059-019-1645-z'\n",
    "}\n",
    "\n",
    "assert set(bioarchive_dois) == set(preprint_to_final_publication) | not_yet_published\n",
    "\n",
    "amo_methods_references['doi'] = [\n",
    "    preprint_to_final_publication[doi] if doi in preprint_to_final_publication else doi\n",
    "    for doi in amo_methods_references['doi']\n",
    "]"
   ]
  },
  {
   "cell_type": "code",
   "execution_count": 48,
   "metadata": {},
   "outputs": [],
   "source": [
    "from pandas import DataFrame\n",
    "\n",
    "def is_referenced(references, literature):\n",
    "    matches = DataFrame({\n",
    "        'doi': literature['doi'].isin(references['doi']),\n",
    "        'pubmed_central': literature['PMC'].isin(references['pubmed_central']),\n",
    "        'pubmed': literature.index.isin({int(p) for p in references['pubmed']})\n",
    "    })\n",
    "    print(matches.any())\n",
    "\n",
    "    return matches.any(axis=1)"
   ]
  },
  {
   "cell_type": "code",
   "execution_count": 49,
   "metadata": {},
   "outputs": [
    {
     "name": "stdout",
     "output_type": "stream",
     "text": [
      "doi                True\n",
      "pubmed_central     True\n",
      "pubmed            False\n",
      "dtype: bool\n"
     ]
    },
    {
     "data": {
      "text/plain": [
       "10"
      ]
     },
     "execution_count": 49,
     "metadata": {},
     "output_type": "execute_result"
    }
   ],
   "source": [
    "is_referenced_in_amo_as_method = is_referenced(amo_methods_references, literature)\n",
    "sum(is_referenced_in_amo_as_method)"
   ]
  },
  {
   "cell_type": "code",
   "execution_count": 50,
   "metadata": {},
   "outputs": [
    {
     "data": {
      "text/plain": [
       "uid\n",
       "24884486                                    A multivariate approach to the integration of multi-omics datasets.\n",
       "27716030    Handling missing rows in multi-omics data integration: multiple imputation in multiple factor an...\n",
       "29925568         Multi-Omics Factor Analysis-a framework for unsupervised integration of multi-omics data sets.\n",
       "30657866         DIABLO: an integrative approach for identifying key molecular drivers from multi-omics assays.\n",
       "30957844                                     Unsupervised discovery of phenotype-specific multi-omics networks.\n",
       "31243065                             MOGSA: Integrative Single Sample Gene-set Analysis of Multiple Omics Data.\n",
       "31501851                       Spectrum: fast density-aware spectral clustering for single and multi-omic data.\n",
       "31792061                           Evaluation of colorectal cancer subtypes and cell lines using deep learning.\n",
       "31918677          Multiset sparse partial least squares path modeling for high dimensional omics data analysis.\n",
       "32276350                               MOTA: Network-Based Multi-Omic Data Integration for Biomarker Discovery.\n",
       "Name: title, dtype: object"
      ]
     },
     "execution_count": 50,
     "metadata": {},
     "output_type": "execute_result"
    }
   ],
   "source": [
    "literature[is_referenced_in_amo_as_method].title"
   ]
  },
  {
   "cell_type": "code",
   "execution_count": 51,
   "metadata": {},
   "outputs": [
    {
     "data": {
      "text/plain": [
       "25"
      ]
     },
     "execution_count": 51,
     "metadata": {},
     "output_type": "execute_result"
    }
   ],
   "source": [
    "amo_reviews = get_between_headers(community_curated_list, amo_reviews_header, amo_applications_header)\n",
    "len(amo_reviews)"
   ]
  },
  {
   "cell_type": "code",
   "execution_count": 52,
   "metadata": {},
   "outputs": [
    {
     "data": {
      "text/plain": [
       "5"
      ]
     },
     "execution_count": 52,
     "metadata": {},
     "output_type": "execute_result"
    }
   ],
   "source": [
    "sum(is_referenced_in_amo_as_method & has_method_subject)"
   ]
  },
  {
   "cell_type": "markdown",
   "metadata": {},
   "source": [
    "### Methods from from Bioinformatics journal"
   ]
  },
  {
   "cell_type": "code",
   "execution_count": 53,
   "metadata": {},
   "outputs": [],
   "source": [
    "(\n",
    "    prepare_for_manual_annotation(in_bioinformatics)\n",
    "    .to_csv(methods_annotations / 'bioinformatics_journal-blank.csv')\n",
    ")"
   ]
  },
  {
   "cell_type": "markdown",
   "metadata": {},
   "source": [
    "Note: has_comparisons column not finished for this annotations set."
   ]
  },
  {
   "cell_type": "code",
   "execution_count": 54,
   "metadata": {},
   "outputs": [],
   "source": [
    "annotation_for_bioinformatics = read_csv(methods_annotations / 'bioinformatics_journal-annotated.csv')\n",
    "check_annotations(annotation_for_bioinformatics, in_bioinformatics)"
   ]
  },
  {
   "cell_type": "code",
   "execution_count": 55,
   "metadata": {},
   "outputs": [
    {
     "data": {
      "text/plain": [
       "(0.6323529411764706, 0.3235294117647059)"
      ]
     },
     "execution_count": 55,
     "metadata": {},
     "output_type": "execute_result"
    }
   ],
   "source": [
    "(annotation_for_bioinformatics.is_comp_method == 'y').mean(), (annotation_for_bioinformatics.is_tool == 'y').mean()"
   ]
  },
  {
   "cell_type": "code",
   "execution_count": 56,
   "metadata": {},
   "outputs": [],
   "source": [
    "is_method_in_bioinformatics_journal = annotated_as_method_or_tool(annotation_for_bioinformatics)"
   ]
  },
  {
   "cell_type": "code",
   "execution_count": 57,
   "metadata": {},
   "outputs": [],
   "source": [
    "is_method = (\n",
    "    is_method_for_subjects\n",
    "    |\n",
    "    is_referenced_in_amo_as_method\n",
    "    |\n",
    "    is_method_in_bioinformatics_journal\n",
    ")"
   ]
  },
  {
   "cell_type": "code",
   "execution_count": 58,
   "metadata": {},
   "outputs": [
    {
     "data": {
      "text/plain": [
       "115"
      ]
     },
     "execution_count": 58,
     "metadata": {},
     "output_type": "execute_result"
    }
   ],
   "source": [
    "sum(is_method)"
   ]
  },
  {
   "cell_type": "markdown",
   "metadata": {},
   "source": [
    "### Research articles"
   ]
  },
  {
   "cell_type": "code",
   "execution_count": 59,
   "metadata": {},
   "outputs": [
    {
     "data": {
      "text/plain": [
       "Systems Biology                  30\n",
       "Research Articles                30\n",
       "Genome Analysis                  31\n",
       "Gene Expression                  34\n",
       "Review Article                   35\n",
       "Articles                         39\n",
       "Medicine and Health Sciences     42\n",
       "Original Article                 43\n",
       "Computational Biology            44\n",
       "Genomics                         47\n",
       "Microbiology                     51\n",
       "Biochemistry                     53\n",
       "Biology and Life Sciences        61\n",
       "Research Paper                   67\n",
       "Original Research               100\n",
       "Genetics                        109\n",
       "Research                        139\n",
       "Review                          163\n",
       "Research Article                240\n",
       "Article                         582\n",
       "dtype: int64"
      ]
     },
     "execution_count": 59,
     "metadata": {},
     "output_type": "execute_result"
    }
   ],
   "source": [
    "literature_subjects.sum().sort_values().tail(20)"
   ]
  },
  {
   "cell_type": "code",
   "execution_count": 60,
   "metadata": {},
   "outputs": [
    {
     "data": {
      "text/plain": [
       "558"
      ]
     },
     "execution_count": 60,
     "metadata": {},
     "output_type": "execute_result"
    }
   ],
   "source": [
    "has_research_article_subject = literature_subjects[['Research Article', 'Original Research', 'Research Paper', 'Research', 'Research Articles']].any(axis=1)\n",
    "sum(has_research_article_subject)"
   ]
  },
  {
   "cell_type": "code",
   "execution_count": 61,
   "metadata": {},
   "outputs": [
    {
     "data": {
      "text/plain": [
       "1566"
      ]
     },
     "execution_count": 61,
     "metadata": {},
     "output_type": "execute_result"
    }
   ],
   "source": [
    "is_article_type_research = literature.article_type == 'research-article'\n",
    "sum(is_article_type_research)"
   ]
  },
  {
   "cell_type": "markdown",
   "metadata": {},
   "source": [
    "The agreement is high:"
   ]
  },
  {
   "cell_type": "code",
   "execution_count": 62,
   "metadata": {},
   "outputs": [
    {
     "data": {
      "text/plain": [
       "556"
      ]
     },
     "execution_count": 62,
     "metadata": {},
     "output_type": "execute_result"
    }
   ],
   "source": [
    "sum(has_research_article_subject & is_article_type_research)"
   ]
  },
  {
   "cell_type": "code",
   "execution_count": 63,
   "metadata": {},
   "outputs": [],
   "source": [
    "is_certainly_review = review_pseudo_probability == 1"
   ]
  },
  {
   "cell_type": "code",
   "execution_count": 64,
   "metadata": {},
   "outputs": [
    {
     "data": {
      "text/plain": [
       "1484"
      ]
     },
     "execution_count": 64,
     "metadata": {},
     "output_type": "execute_result"
    }
   ],
   "source": [
    "is_other_research_article = (\n",
    "    (has_research_article_subject | is_article_type_research)\n",
    "    &\n",
    "    (~is_method)\n",
    "    &\n",
    "    (~is_certainly_review)\n",
    ")\n",
    "sum(is_other_research_article)"
   ]
  },
  {
   "cell_type": "markdown",
   "metadata": {},
   "source": [
    "### Other"
   ]
  },
  {
   "cell_type": "markdown",
   "metadata": {},
   "source": [
    "Other are all articles which are not any of the above."
   ]
  },
  {
   "cell_type": "markdown",
   "metadata": {},
   "source": [
    "### Final dataset"
   ]
  },
  {
   "cell_type": "code",
   "execution_count": 65,
   "metadata": {},
   "outputs": [],
   "source": [
    "all_labels = literature.index.to_frame().drop(columns='uid').copy()\n",
    "all_labels['is_review'] = review_pseudo_probability\n",
    "all_labels['is_method'] = is_method\n",
    "all_labels['is_other_research_article'] = is_other_research_article\n",
    "all_labels['is_other'] = ~all_labels.any(axis=1)"
   ]
  },
  {
   "cell_type": "markdown",
   "metadata": {},
   "source": [
    "For training I will only use the subset of articles that have:\n",
    " - both:\n",
    "   - at least one publication type, AND\n",
    "   - either article_type or subject\n",
    " - or:\n",
    "   - are labeled as methods (which are manually curated)"
   ]
  },
  {
   "cell_type": "code",
   "execution_count": 66,
   "metadata": {},
   "outputs": [
    {
     "data": {
      "text/plain": [
       "0.9991319444444444"
      ]
     },
     "execution_count": 66,
     "metadata": {},
     "output_type": "execute_result"
    }
   ],
   "source": [
    "has_any_publication_type = publication_types.any(axis=1)\n",
    "has_any_publication_type.mean()"
   ]
  },
  {
   "cell_type": "code",
   "execution_count": 67,
   "metadata": {},
   "outputs": [
    {
     "data": {
      "text/plain": [
       "0.5645254629629629"
      ]
     },
     "execution_count": 67,
     "metadata": {},
     "output_type": "execute_result"
    }
   ],
   "source": [
    "has_article_type = ~literature.article_type.isnull()\n",
    "has_article_type.mean()"
   ]
  },
  {
   "cell_type": "code",
   "execution_count": 68,
   "metadata": {},
   "outputs": [
    {
     "data": {
      "text/plain": [
       "0.5645254629629629"
      ]
     },
     "execution_count": 68,
     "metadata": {},
     "output_type": "execute_result"
    }
   ],
   "source": [
    "has_any_subject = literature_subjects.any(axis=1)\n",
    "has_any_subject.mean()"
   ]
  },
  {
   "cell_type": "code",
   "execution_count": 69,
   "metadata": {},
   "outputs": [],
   "source": [
    "assert all(has_any_subject == has_article_type)"
   ]
  },
  {
   "cell_type": "code",
   "execution_count": 70,
   "metadata": {},
   "outputs": [
    {
     "data": {
      "text/plain": [
       "1982"
      ]
     },
     "execution_count": 70,
     "metadata": {},
     "output_type": "execute_result"
    }
   ],
   "source": [
    "is_qualifying_article = (has_any_publication_type & has_article_type) | all_labels.is_method\n",
    "sum(is_qualifying_article)"
   ]
  },
  {
   "cell_type": "code",
   "execution_count": 71,
   "metadata": {},
   "outputs": [
    {
     "data": {
      "text/html": [
       "<div>\n",
       "<style scoped>\n",
       "    .dataframe tbody tr th:only-of-type {\n",
       "        vertical-align: middle;\n",
       "    }\n",
       "\n",
       "    .dataframe tbody tr th {\n",
       "        vertical-align: top;\n",
       "    }\n",
       "\n",
       "    .dataframe thead th {\n",
       "        text-align: right;\n",
       "    }\n",
       "</style>\n",
       "<table border=\"1\" class=\"dataframe\">\n",
       "  <thead>\n",
       "    <tr style=\"text-align: right;\">\n",
       "      <th></th>\n",
       "      <th>is_review</th>\n",
       "      <th>is_method</th>\n",
       "      <th>is_other_research_article</th>\n",
       "      <th>is_other</th>\n",
       "    </tr>\n",
       "    <tr>\n",
       "      <th>uid</th>\n",
       "      <th></th>\n",
       "      <th></th>\n",
       "      <th></th>\n",
       "      <th></th>\n",
       "    </tr>\n",
       "  </thead>\n",
       "  <tbody>\n",
       "    <tr>\n",
       "      <th>12186644</th>\n",
       "      <td>0.0</td>\n",
       "      <td>False</td>\n",
       "      <td>False</td>\n",
       "      <td>True</td>\n",
       "    </tr>\n",
       "    <tr>\n",
       "      <th>16611894</th>\n",
       "      <td>0.0</td>\n",
       "      <td>False</td>\n",
       "      <td>True</td>\n",
       "      <td>False</td>\n",
       "    </tr>\n",
       "    <tr>\n",
       "      <th>17420480</th>\n",
       "      <td>0.0</td>\n",
       "      <td>False</td>\n",
       "      <td>True</td>\n",
       "      <td>False</td>\n",
       "    </tr>\n",
       "    <tr>\n",
       "      <th>17449607</th>\n",
       "      <td>0.0</td>\n",
       "      <td>False</td>\n",
       "      <td>True</td>\n",
       "      <td>False</td>\n",
       "    </tr>\n",
       "    <tr>\n",
       "      <th>17468122</th>\n",
       "      <td>0.0</td>\n",
       "      <td>True</td>\n",
       "      <td>False</td>\n",
       "      <td>False</td>\n",
       "    </tr>\n",
       "  </tbody>\n",
       "</table>\n",
       "</div>"
      ],
      "text/plain": [
       "          is_review  is_method  is_other_research_article  is_other\n",
       "uid                                                                \n",
       "12186644        0.0      False                      False      True\n",
       "16611894        0.0      False                       True     False\n",
       "17420480        0.0      False                       True     False\n",
       "17449607        0.0      False                       True     False\n",
       "17468122        0.0       True                      False     False"
      ]
     },
     "execution_count": 71,
     "metadata": {},
     "output_type": "execute_result"
    }
   ],
   "source": [
    "labels = all_labels[is_qualifying_article]\n",
    "labels.head(5)"
   ]
  },
  {
   "cell_type": "code",
   "execution_count": 72,
   "metadata": {},
   "outputs": [
    {
     "data": {
      "text/plain": [
       "is_review                     341\n",
       "is_method                     115\n",
       "is_other_research_article    1484\n",
       "is_other                      118\n",
       "dtype: int64"
      ]
     },
     "execution_count": 72,
     "metadata": {},
     "output_type": "execute_result"
    }
   ],
   "source": [
    "(~(labels == False)).sum()"
   ]
  },
  {
   "cell_type": "code",
   "execution_count": 73,
   "metadata": {},
   "outputs": [
    {
     "data": {
      "text/markdown": [
       "Stored `labels` (5D584CB5 → 5D584CB5) at Saturday, 25. Jul 2020 16:34"
      ],
      "text/plain": [
       "<IPython.core.display.Markdown object>"
      ]
     },
     "metadata": {
      "text/markdown": {
       "action": "store",
       "command": "store labels as reliable_article_types in pubmed_derived_data",
       "finished": "2020-07-25T16:34:00.988059",
       "finished_human_readable": "Saturday, 25. Jul 2020 16:34",
       "result": [
        {
         "new_file": {
          "crc32": "5D584CB5",
          "sha256": "585366F3E5A11FC007CC4DFF5AF9C7AFBCBEBA3A15B65333657C632F2218A1AC"
         },
         "old_file": {
          "crc32": "5D584CB5",
          "sha256": "585366F3E5A11FC007CC4DFF5AF9C7AFBCBEBA3A15B65333657C632F2218A1AC"
         },
         "subject": "labels"
        }
       ],
       "started": "2020-07-25T16:34:00.214743"
      }
     },
     "output_type": "display_data"
    }
   ],
   "source": [
    "%vault store labels as reliable_article_types in pubmed_derived_data"
   ]
  },
  {
   "cell_type": "markdown",
   "metadata": {},
   "source": [
    "# Create features for to infer the types of the remaining articles"
   ]
  },
  {
   "cell_type": "code",
   "execution_count": 74,
   "metadata": {},
   "outputs": [
    {
     "data": {
      "text/markdown": [
       "Imported `code_repositories` (5FF4AA2D) at Saturday, 25. Jul 2020 16:34"
      ],
      "text/plain": [
       "<IPython.core.display.Markdown object>"
      ]
     },
     "metadata": {
      "text/markdown": {
       "action": "import",
       "command": "import code_repositories from pubmed_derived_data",
       "finished": "2020-07-25T16:34:01.667827",
       "finished_human_readable": "Saturday, 25. Jul 2020 16:34",
       "result": [
        {
         "new_file": {
          "crc32": "5FF4AA2D",
          "sha256": "92B28FE95EA205C4311BD4E9D6360D87087D0C5D452CCF9567829CFFD27EE1E5"
         },
         "subject": "code_repositories"
        }
       ],
       "started": "2020-07-25T16:34:01.014072"
      }
     },
     "output_type": "display_data"
    }
   ],
   "source": [
    "%vault import code_repositories from pubmed_derived_data"
   ]
  },
  {
   "cell_type": "code",
   "execution_count": 75,
   "metadata": {},
   "outputs": [],
   "source": [
    "from repository_detection import source_code_platforms, mixed_publication_platforms"
   ]
  },
  {
   "cell_type": "code",
   "execution_count": 76,
   "metadata": {},
   "outputs": [],
   "source": [
    "code_respository_or_package_link = Series([\n",
    "    *source_code_platforms,\n",
    "    *mixed_publication_platforms\n",
    "])"
   ]
  },
  {
   "cell_type": "code",
   "execution_count": 77,
   "metadata": {},
   "outputs": [
    {
     "data": {
      "text/plain": [
       "72"
      ]
     },
     "execution_count": 77,
     "metadata": {},
     "output_type": "execute_result"
    }
   ],
   "source": [
    "any_code_or_package_link = (code_repositories['abstract_' + code_respository_or_package_link + '_matches'] != '[]').any(axis=1)\n",
    "sum(any_code_or_package_link)"
   ]
  },
  {
   "cell_type": "code",
   "execution_count": 78,
   "metadata": {},
   "outputs": [],
   "source": [
    "code_links_from_abstracts = code_repositories['abstract_' + code_respository_or_package_link + '_matches'] != '[]'\n",
    "code_links_from_abstracts['any_code_or_package_link'] = any_code_or_package_link"
   ]
  },
  {
   "cell_type": "code",
   "execution_count": 79,
   "metadata": {},
   "outputs": [],
   "source": [
    "#%vault import omics_features from pubmed_derived_data"
   ]
  },
  {
   "cell_type": "code",
   "execution_count": 80,
   "metadata": {},
   "outputs": [],
   "source": [
    "from sklearn.feature_extraction.text import TfidfVectorizer\n",
    "\n",
    "vectorizer = TfidfVectorizer(\n",
    "    max_df=0.3,\n",
    "    ngram_range=(1, 3),\n",
    "    max_features=5000,\n",
    "    min_df=2,\n",
    "    stop_words='english',\n",
    "    use_idf=True\n",
    ")"
   ]
  },
  {
   "cell_type": "code",
   "execution_count": 81,
   "metadata": {},
   "outputs": [],
   "source": [
    "X = vectorizer.fit_transform(literature['title'] + ' ' + literature['abstract_clean'].fillna(''))"
   ]
  },
  {
   "cell_type": "code",
   "execution_count": 82,
   "metadata": {},
   "outputs": [],
   "source": [
    "dataset = literature[is_qualifying_article]"
   ]
  },
  {
   "cell_type": "code",
   "execution_count": 83,
   "metadata": {},
   "outputs": [],
   "source": [
    "words = DataFrame(\n",
    "    X.todense(),\n",
    "    columns=vectorizer.get_feature_names(),\n",
    "    index=literature.index\n",
    ")"
   ]
  },
  {
   "cell_type": "code",
   "execution_count": 84,
   "metadata": {},
   "outputs": [
    {
     "data": {
      "text/plain": [
       "Index(['000', '001', '01', '05', '10', '100', '1000', '11', '12', '13',\n",
       "       ...\n",
       "       'yeast', 'yield', 'yielded', 'yields', 'young', 'zebrafish', 'zinc',\n",
       "       'zone', 'μg', 'μm'],\n",
       "      dtype='object', length=5000)"
      ]
     },
     "execution_count": 84,
     "metadata": {},
     "output_type": "execute_result"
    }
   ],
   "source": [
    "words.columns"
   ]
  },
  {
   "cell_type": "code",
   "execution_count": 85,
   "metadata": {},
   "outputs": [],
   "source": [
    "# the problem with omcis features is that those use full text, so that would note be great for prediction of non-PMC articles\n",
    "# .join(omics_features)"
   ]
  },
  {
   "cell_type": "code",
   "execution_count": 86,
   "metadata": {},
   "outputs": [],
   "source": [
    "from sklearn.preprocessing import OneHotEncoder"
   ]
  },
  {
   "cell_type": "code",
   "execution_count": 87,
   "metadata": {},
   "outputs": [],
   "source": [
    "journal_encoder = OneHotEncoder()\n",
    "journals = DataFrame(\n",
    "    journal_encoder.fit_transform(literature[['journal']].fillna('-')).todense(),\n",
    "    columns=journal_encoder.get_feature_names(),\n",
    "    index=literature.index\n",
    ")"
   ]
  },
  {
   "cell_type": "code",
   "execution_count": 88,
   "metadata": {},
   "outputs": [
    {
     "data": {
      "text/html": [
       "<div>\n",
       "<style scoped>\n",
       "    .dataframe tbody tr th:only-of-type {\n",
       "        vertical-align: middle;\n",
       "    }\n",
       "\n",
       "    .dataframe tbody tr th {\n",
       "        vertical-align: top;\n",
       "    }\n",
       "\n",
       "    .dataframe thead th {\n",
       "        text-align: right;\n",
       "    }\n",
       "</style>\n",
       "<table border=\"1\" class=\"dataframe\">\n",
       "  <thead>\n",
       "    <tr style=\"text-align: right;\">\n",
       "      <th></th>\n",
       "      <th>x0_-</th>\n",
       "      <th>x0_ACM-BCB ... ... : the ... ACM Conference on Bioinformatics, Computational Biology and Biomedicine. ACM Conference on Bioinformatics, Computational Biology and Biomedicine</th>\n",
       "      <th>x0_ACS applied materials &amp; interfaces</th>\n",
       "      <th>x0_ACS chemical biology</th>\n",
       "      <th>x0_ACS chemical neuroscience</th>\n",
       "      <th>x0_ACS infectious diseases</th>\n",
       "      <th>x0_ACS omega</th>\n",
       "      <th>x0_ACS sensors</th>\n",
       "      <th>x0_ACS synthetic biology</th>\n",
       "      <th>x0_AIMS neuroscience</th>\n",
       "      <th>...</th>\n",
       "      <th>x0_Zhonghua liu xing bing xue za zhi = Zhonghua liuxingbingxue zazhi</th>\n",
       "      <th>x0_Zhonghua nan ke xue = National journal of andrology</th>\n",
       "      <th>x0_Zhonghua yi xue za zhi</th>\n",
       "      <th>x0_Zhonghua yu fang yi xue za zhi [Chinese journal of preventive medicine]</th>\n",
       "      <th>x0_Zoology (Jena, Germany)</th>\n",
       "      <th>x0_eLife</th>\n",
       "      <th>x0_iScience</th>\n",
       "      <th>x0_mBio</th>\n",
       "      <th>x0_mSphere</th>\n",
       "      <th>x0_mSystems</th>\n",
       "    </tr>\n",
       "    <tr>\n",
       "      <th>uid</th>\n",
       "      <th></th>\n",
       "      <th></th>\n",
       "      <th></th>\n",
       "      <th></th>\n",
       "      <th></th>\n",
       "      <th></th>\n",
       "      <th></th>\n",
       "      <th></th>\n",
       "      <th></th>\n",
       "      <th></th>\n",
       "      <th></th>\n",
       "      <th></th>\n",
       "      <th></th>\n",
       "      <th></th>\n",
       "      <th></th>\n",
       "      <th></th>\n",
       "      <th></th>\n",
       "      <th></th>\n",
       "      <th></th>\n",
       "      <th></th>\n",
       "      <th></th>\n",
       "    </tr>\n",
       "  </thead>\n",
       "  <tbody>\n",
       "    <tr>\n",
       "      <th>12186644</th>\n",
       "      <td>0.0</td>\n",
       "      <td>0.0</td>\n",
       "      <td>0.0</td>\n",
       "      <td>0.0</td>\n",
       "      <td>0.0</td>\n",
       "      <td>0.0</td>\n",
       "      <td>0.0</td>\n",
       "      <td>0.0</td>\n",
       "      <td>0.0</td>\n",
       "      <td>0.0</td>\n",
       "      <td>...</td>\n",
       "      <td>0.0</td>\n",
       "      <td>0.0</td>\n",
       "      <td>0.0</td>\n",
       "      <td>0.0</td>\n",
       "      <td>0.0</td>\n",
       "      <td>0.0</td>\n",
       "      <td>0.0</td>\n",
       "      <td>0.0</td>\n",
       "      <td>0.0</td>\n",
       "      <td>0.0</td>\n",
       "    </tr>\n",
       "    <tr>\n",
       "      <th>15687693</th>\n",
       "      <td>0.0</td>\n",
       "      <td>0.0</td>\n",
       "      <td>0.0</td>\n",
       "      <td>0.0</td>\n",
       "      <td>0.0</td>\n",
       "      <td>0.0</td>\n",
       "      <td>0.0</td>\n",
       "      <td>0.0</td>\n",
       "      <td>0.0</td>\n",
       "      <td>0.0</td>\n",
       "      <td>...</td>\n",
       "      <td>0.0</td>\n",
       "      <td>0.0</td>\n",
       "      <td>0.0</td>\n",
       "      <td>0.0</td>\n",
       "      <td>0.0</td>\n",
       "      <td>0.0</td>\n",
       "      <td>0.0</td>\n",
       "      <td>0.0</td>\n",
       "      <td>0.0</td>\n",
       "      <td>0.0</td>\n",
       "    </tr>\n",
       "    <tr>\n",
       "      <th>15687700</th>\n",
       "      <td>0.0</td>\n",
       "      <td>0.0</td>\n",
       "      <td>0.0</td>\n",
       "      <td>0.0</td>\n",
       "      <td>0.0</td>\n",
       "      <td>0.0</td>\n",
       "      <td>0.0</td>\n",
       "      <td>0.0</td>\n",
       "      <td>0.0</td>\n",
       "      <td>0.0</td>\n",
       "      <td>...</td>\n",
       "      <td>0.0</td>\n",
       "      <td>0.0</td>\n",
       "      <td>0.0</td>\n",
       "      <td>0.0</td>\n",
       "      <td>0.0</td>\n",
       "      <td>0.0</td>\n",
       "      <td>0.0</td>\n",
       "      <td>0.0</td>\n",
       "      <td>0.0</td>\n",
       "      <td>0.0</td>\n",
       "    </tr>\n",
       "    <tr>\n",
       "      <th>15687839</th>\n",
       "      <td>0.0</td>\n",
       "      <td>0.0</td>\n",
       "      <td>0.0</td>\n",
       "      <td>0.0</td>\n",
       "      <td>0.0</td>\n",
       "      <td>0.0</td>\n",
       "      <td>0.0</td>\n",
       "      <td>0.0</td>\n",
       "      <td>0.0</td>\n",
       "      <td>0.0</td>\n",
       "      <td>...</td>\n",
       "      <td>0.0</td>\n",
       "      <td>0.0</td>\n",
       "      <td>0.0</td>\n",
       "      <td>0.0</td>\n",
       "      <td>0.0</td>\n",
       "      <td>0.0</td>\n",
       "      <td>0.0</td>\n",
       "      <td>0.0</td>\n",
       "      <td>0.0</td>\n",
       "      <td>0.0</td>\n",
       "    </tr>\n",
       "    <tr>\n",
       "      <th>15763567</th>\n",
       "      <td>0.0</td>\n",
       "      <td>0.0</td>\n",
       "      <td>0.0</td>\n",
       "      <td>0.0</td>\n",
       "      <td>0.0</td>\n",
       "      <td>0.0</td>\n",
       "      <td>0.0</td>\n",
       "      <td>0.0</td>\n",
       "      <td>0.0</td>\n",
       "      <td>0.0</td>\n",
       "      <td>...</td>\n",
       "      <td>0.0</td>\n",
       "      <td>0.0</td>\n",
       "      <td>0.0</td>\n",
       "      <td>0.0</td>\n",
       "      <td>0.0</td>\n",
       "      <td>0.0</td>\n",
       "      <td>0.0</td>\n",
       "      <td>0.0</td>\n",
       "      <td>0.0</td>\n",
       "      <td>0.0</td>\n",
       "    </tr>\n",
       "  </tbody>\n",
       "</table>\n",
       "<p>5 rows × 976 columns</p>\n",
       "</div>"
      ],
      "text/plain": [
       "          x0_-  \\\n",
       "uid              \n",
       "12186644   0.0   \n",
       "15687693   0.0   \n",
       "15687700   0.0   \n",
       "15687839   0.0   \n",
       "15763567   0.0   \n",
       "\n",
       "          x0_ACM-BCB ... ... : the ... ACM Conference on Bioinformatics, Computational Biology and Biomedicine. ACM Conference on Bioinformatics, Computational Biology and Biomedicine  \\\n",
       "uid                                                                                                                                                                                       \n",
       "12186644                                                                                                  0.0                                                                             \n",
       "15687693                                                                                                  0.0                                                                             \n",
       "15687700                                                                                                  0.0                                                                             \n",
       "15687839                                                                                                  0.0                                                                             \n",
       "15763567                                                                                                  0.0                                                                             \n",
       "\n",
       "          x0_ACS applied materials & interfaces  x0_ACS chemical biology  \\\n",
       "uid                                                                        \n",
       "12186644                                    0.0                      0.0   \n",
       "15687693                                    0.0                      0.0   \n",
       "15687700                                    0.0                      0.0   \n",
       "15687839                                    0.0                      0.0   \n",
       "15763567                                    0.0                      0.0   \n",
       "\n",
       "          x0_ACS chemical neuroscience  x0_ACS infectious diseases  \\\n",
       "uid                                                                  \n",
       "12186644                           0.0                         0.0   \n",
       "15687693                           0.0                         0.0   \n",
       "15687700                           0.0                         0.0   \n",
       "15687839                           0.0                         0.0   \n",
       "15763567                           0.0                         0.0   \n",
       "\n",
       "          x0_ACS omega  x0_ACS sensors  x0_ACS synthetic biology  \\\n",
       "uid                                                                \n",
       "12186644           0.0             0.0                       0.0   \n",
       "15687693           0.0             0.0                       0.0   \n",
       "15687700           0.0             0.0                       0.0   \n",
       "15687839           0.0             0.0                       0.0   \n",
       "15763567           0.0             0.0                       0.0   \n",
       "\n",
       "          x0_AIMS neuroscience  ...  \\\n",
       "uid                             ...   \n",
       "12186644                   0.0  ...   \n",
       "15687693                   0.0  ...   \n",
       "15687700                   0.0  ...   \n",
       "15687839                   0.0  ...   \n",
       "15763567                   0.0  ...   \n",
       "\n",
       "          x0_Zhonghua liu xing bing xue za zhi = Zhonghua liuxingbingxue zazhi  \\\n",
       "uid                                                                              \n",
       "12186644                                                                   0.0   \n",
       "15687693                                                                   0.0   \n",
       "15687700                                                                   0.0   \n",
       "15687839                                                                   0.0   \n",
       "15763567                                                                   0.0   \n",
       "\n",
       "          x0_Zhonghua nan ke xue = National journal of andrology  \\\n",
       "uid                                                                \n",
       "12186644                                                     0.0   \n",
       "15687693                                                     0.0   \n",
       "15687700                                                     0.0   \n",
       "15687839                                                     0.0   \n",
       "15763567                                                     0.0   \n",
       "\n",
       "          x0_Zhonghua yi xue za zhi  \\\n",
       "uid                                   \n",
       "12186644                        0.0   \n",
       "15687693                        0.0   \n",
       "15687700                        0.0   \n",
       "15687839                        0.0   \n",
       "15763567                        0.0   \n",
       "\n",
       "          x0_Zhonghua yu fang yi xue za zhi [Chinese journal of preventive medicine]  \\\n",
       "uid                                                                                    \n",
       "12186644                                                                         0.0   \n",
       "15687693                                                                         0.0   \n",
       "15687700                                                                         0.0   \n",
       "15687839                                                                         0.0   \n",
       "15763567                                                                         0.0   \n",
       "\n",
       "          x0_Zoology (Jena, Germany)  x0_eLife  x0_iScience  x0_mBio  \\\n",
       "uid                                                                    \n",
       "12186644                         0.0       0.0          0.0      0.0   \n",
       "15687693                         0.0       0.0          0.0      0.0   \n",
       "15687700                         0.0       0.0          0.0      0.0   \n",
       "15687839                         0.0       0.0          0.0      0.0   \n",
       "15763567                         0.0       0.0          0.0      0.0   \n",
       "\n",
       "          x0_mSphere  x0_mSystems  \n",
       "uid                                \n",
       "12186644         0.0          0.0  \n",
       "15687693         0.0          0.0  \n",
       "15687700         0.0          0.0  \n",
       "15687839         0.0          0.0  \n",
       "15763567         0.0          0.0  \n",
       "\n",
       "[5 rows x 976 columns]"
      ]
     },
     "execution_count": 88,
     "metadata": {},
     "output_type": "execute_result"
    }
   ],
   "source": [
    "journals.head()"
   ]
  },
  {
   "cell_type": "code",
   "execution_count": 89,
   "metadata": {},
   "outputs": [],
   "source": [
    "all_features = (\n",
    "    words\n",
    "    .join(code_links_from_abstracts)\n",
    "    .join(\n",
    "        # removing bionformatics, as it was used to select methods\n",
    "        # - we are likely to have overrepresentation of articles from there!\n",
    "        journals.drop(columns=['x0_Bioinformatics (Oxford, England)'])\n",
    "    )\n",
    ")"
   ]
  },
  {
   "cell_type": "code",
   "execution_count": 90,
   "metadata": {},
   "outputs": [
    {
     "data": {
      "text/html": [
       "<div>\n",
       "<style scoped>\n",
       "    .dataframe tbody tr th:only-of-type {\n",
       "        vertical-align: middle;\n",
       "    }\n",
       "\n",
       "    .dataframe tbody tr th {\n",
       "        vertical-align: top;\n",
       "    }\n",
       "\n",
       "    .dataframe thead th {\n",
       "        text-align: right;\n",
       "    }\n",
       "</style>\n",
       "<table border=\"1\" class=\"dataframe\">\n",
       "  <thead>\n",
       "    <tr style=\"text-align: right;\">\n",
       "      <th></th>\n",
       "      <th>000</th>\n",
       "      <th>001</th>\n",
       "      <th>01</th>\n",
       "      <th>05</th>\n",
       "      <th>10</th>\n",
       "      <th>100</th>\n",
       "      <th>1000</th>\n",
       "      <th>11</th>\n",
       "      <th>12</th>\n",
       "      <th>13</th>\n",
       "      <th>...</th>\n",
       "      <th>x0_Zhonghua liu xing bing xue za zhi = Zhonghua liuxingbingxue zazhi</th>\n",
       "      <th>x0_Zhonghua nan ke xue = National journal of andrology</th>\n",
       "      <th>x0_Zhonghua yi xue za zhi</th>\n",
       "      <th>x0_Zhonghua yu fang yi xue za zhi [Chinese journal of preventive medicine]</th>\n",
       "      <th>x0_Zoology (Jena, Germany)</th>\n",
       "      <th>x0_eLife</th>\n",
       "      <th>x0_iScience</th>\n",
       "      <th>x0_mBio</th>\n",
       "      <th>x0_mSphere</th>\n",
       "      <th>x0_mSystems</th>\n",
       "    </tr>\n",
       "    <tr>\n",
       "      <th>uid</th>\n",
       "      <th></th>\n",
       "      <th></th>\n",
       "      <th></th>\n",
       "      <th></th>\n",
       "      <th></th>\n",
       "      <th></th>\n",
       "      <th></th>\n",
       "      <th></th>\n",
       "      <th></th>\n",
       "      <th></th>\n",
       "      <th></th>\n",
       "      <th></th>\n",
       "      <th></th>\n",
       "      <th></th>\n",
       "      <th></th>\n",
       "      <th></th>\n",
       "      <th></th>\n",
       "      <th></th>\n",
       "      <th></th>\n",
       "      <th></th>\n",
       "      <th></th>\n",
       "    </tr>\n",
       "  </thead>\n",
       "  <tbody>\n",
       "    <tr>\n",
       "      <th>12186644</th>\n",
       "      <td>0.00000</td>\n",
       "      <td>0.0</td>\n",
       "      <td>0.0</td>\n",
       "      <td>0.0</td>\n",
       "      <td>0.0</td>\n",
       "      <td>0.000000</td>\n",
       "      <td>0.0</td>\n",
       "      <td>0.0</td>\n",
       "      <td>0.0</td>\n",
       "      <td>0.000000</td>\n",
       "      <td>...</td>\n",
       "      <td>0.0</td>\n",
       "      <td>0.0</td>\n",
       "      <td>0.0</td>\n",
       "      <td>0.0</td>\n",
       "      <td>0.0</td>\n",
       "      <td>0.0</td>\n",
       "      <td>0.0</td>\n",
       "      <td>0.0</td>\n",
       "      <td>0.0</td>\n",
       "      <td>0.0</td>\n",
       "    </tr>\n",
       "    <tr>\n",
       "      <th>15687693</th>\n",
       "      <td>0.08517</td>\n",
       "      <td>0.0</td>\n",
       "      <td>0.0</td>\n",
       "      <td>0.0</td>\n",
       "      <td>0.0</td>\n",
       "      <td>0.085646</td>\n",
       "      <td>0.0</td>\n",
       "      <td>0.0</td>\n",
       "      <td>0.0</td>\n",
       "      <td>0.084032</td>\n",
       "      <td>...</td>\n",
       "      <td>0.0</td>\n",
       "      <td>0.0</td>\n",
       "      <td>0.0</td>\n",
       "      <td>0.0</td>\n",
       "      <td>0.0</td>\n",
       "      <td>0.0</td>\n",
       "      <td>0.0</td>\n",
       "      <td>0.0</td>\n",
       "      <td>0.0</td>\n",
       "      <td>0.0</td>\n",
       "    </tr>\n",
       "    <tr>\n",
       "      <th>15687700</th>\n",
       "      <td>0.00000</td>\n",
       "      <td>0.0</td>\n",
       "      <td>0.0</td>\n",
       "      <td>0.0</td>\n",
       "      <td>0.0</td>\n",
       "      <td>0.073428</td>\n",
       "      <td>0.0</td>\n",
       "      <td>0.0</td>\n",
       "      <td>0.0</td>\n",
       "      <td>0.000000</td>\n",
       "      <td>...</td>\n",
       "      <td>0.0</td>\n",
       "      <td>0.0</td>\n",
       "      <td>0.0</td>\n",
       "      <td>0.0</td>\n",
       "      <td>0.0</td>\n",
       "      <td>0.0</td>\n",
       "      <td>0.0</td>\n",
       "      <td>0.0</td>\n",
       "      <td>0.0</td>\n",
       "      <td>0.0</td>\n",
       "    </tr>\n",
       "    <tr>\n",
       "      <th>15687839</th>\n",
       "      <td>0.00000</td>\n",
       "      <td>0.0</td>\n",
       "      <td>0.0</td>\n",
       "      <td>0.0</td>\n",
       "      <td>0.0</td>\n",
       "      <td>0.000000</td>\n",
       "      <td>0.0</td>\n",
       "      <td>0.0</td>\n",
       "      <td>0.0</td>\n",
       "      <td>0.000000</td>\n",
       "      <td>...</td>\n",
       "      <td>0.0</td>\n",
       "      <td>0.0</td>\n",
       "      <td>0.0</td>\n",
       "      <td>0.0</td>\n",
       "      <td>0.0</td>\n",
       "      <td>0.0</td>\n",
       "      <td>0.0</td>\n",
       "      <td>0.0</td>\n",
       "      <td>0.0</td>\n",
       "      <td>0.0</td>\n",
       "    </tr>\n",
       "    <tr>\n",
       "      <th>15763567</th>\n",
       "      <td>0.00000</td>\n",
       "      <td>0.0</td>\n",
       "      <td>0.0</td>\n",
       "      <td>0.0</td>\n",
       "      <td>0.0</td>\n",
       "      <td>0.000000</td>\n",
       "      <td>0.0</td>\n",
       "      <td>0.0</td>\n",
       "      <td>0.0</td>\n",
       "      <td>0.000000</td>\n",
       "      <td>...</td>\n",
       "      <td>0.0</td>\n",
       "      <td>0.0</td>\n",
       "      <td>0.0</td>\n",
       "      <td>0.0</td>\n",
       "      <td>0.0</td>\n",
       "      <td>0.0</td>\n",
       "      <td>0.0</td>\n",
       "      <td>0.0</td>\n",
       "      <td>0.0</td>\n",
       "      <td>0.0</td>\n",
       "    </tr>\n",
       "  </tbody>\n",
       "</table>\n",
       "<p>5 rows × 5986 columns</p>\n",
       "</div>"
      ],
      "text/plain": [
       "              000  001   01   05   10       100  1000   11   12        13  \\\n",
       "uid                                                                         \n",
       "12186644  0.00000  0.0  0.0  0.0  0.0  0.000000   0.0  0.0  0.0  0.000000   \n",
       "15687693  0.08517  0.0  0.0  0.0  0.0  0.085646   0.0  0.0  0.0  0.084032   \n",
       "15687700  0.00000  0.0  0.0  0.0  0.0  0.073428   0.0  0.0  0.0  0.000000   \n",
       "15687839  0.00000  0.0  0.0  0.0  0.0  0.000000   0.0  0.0  0.0  0.000000   \n",
       "15763567  0.00000  0.0  0.0  0.0  0.0  0.000000   0.0  0.0  0.0  0.000000   \n",
       "\n",
       "          ...  \\\n",
       "uid       ...   \n",
       "12186644  ...   \n",
       "15687693  ...   \n",
       "15687700  ...   \n",
       "15687839  ...   \n",
       "15763567  ...   \n",
       "\n",
       "          x0_Zhonghua liu xing bing xue za zhi = Zhonghua liuxingbingxue zazhi  \\\n",
       "uid                                                                              \n",
       "12186644                                                                   0.0   \n",
       "15687693                                                                   0.0   \n",
       "15687700                                                                   0.0   \n",
       "15687839                                                                   0.0   \n",
       "15763567                                                                   0.0   \n",
       "\n",
       "          x0_Zhonghua nan ke xue = National journal of andrology  \\\n",
       "uid                                                                \n",
       "12186644                                                     0.0   \n",
       "15687693                                                     0.0   \n",
       "15687700                                                     0.0   \n",
       "15687839                                                     0.0   \n",
       "15763567                                                     0.0   \n",
       "\n",
       "          x0_Zhonghua yi xue za zhi  \\\n",
       "uid                                   \n",
       "12186644                        0.0   \n",
       "15687693                        0.0   \n",
       "15687700                        0.0   \n",
       "15687839                        0.0   \n",
       "15763567                        0.0   \n",
       "\n",
       "          x0_Zhonghua yu fang yi xue za zhi [Chinese journal of preventive medicine]  \\\n",
       "uid                                                                                    \n",
       "12186644                                                                         0.0   \n",
       "15687693                                                                         0.0   \n",
       "15687700                                                                         0.0   \n",
       "15687839                                                                         0.0   \n",
       "15763567                                                                         0.0   \n",
       "\n",
       "          x0_Zoology (Jena, Germany)  x0_eLife  x0_iScience  x0_mBio  \\\n",
       "uid                                                                    \n",
       "12186644                         0.0       0.0          0.0      0.0   \n",
       "15687693                         0.0       0.0          0.0      0.0   \n",
       "15687700                         0.0       0.0          0.0      0.0   \n",
       "15687839                         0.0       0.0          0.0      0.0   \n",
       "15763567                         0.0       0.0          0.0      0.0   \n",
       "\n",
       "          x0_mSphere  x0_mSystems  \n",
       "uid                                \n",
       "12186644         0.0          0.0  \n",
       "15687693         0.0          0.0  \n",
       "15687700         0.0          0.0  \n",
       "15687839         0.0          0.0  \n",
       "15763567         0.0          0.0  \n",
       "\n",
       "[5 rows x 5986 columns]"
      ]
     },
     "execution_count": 90,
     "metadata": {},
     "output_type": "execute_result"
    }
   ],
   "source": [
    "all_features.head()"
   ]
  },
  {
   "cell_type": "code",
   "execution_count": 91,
   "metadata": {},
   "outputs": [],
   "source": [
    "features = all_features[is_qualifying_article]"
   ]
  },
  {
   "cell_type": "markdown",
   "metadata": {},
   "source": [
    "## Train-test split"
   ]
  },
  {
   "cell_type": "code",
   "execution_count": 92,
   "metadata": {},
   "outputs": [],
   "source": [
    "assert len(features) == len(labels)"
   ]
  },
  {
   "cell_type": "code",
   "execution_count": 93,
   "metadata": {},
   "outputs": [],
   "source": [
    "from sklearn.model_selection import train_test_split"
   ]
  },
  {
   "cell_type": "code",
   "execution_count": 94,
   "metadata": {},
   "outputs": [],
   "source": [
    "X_train, X_test, y_train, y_test = train_test_split(features, labels)"
   ]
  },
  {
   "cell_type": "markdown",
   "metadata": {},
   "source": [
    "## Train & test"
   ]
  },
  {
   "cell_type": "code",
   "execution_count": 95,
   "metadata": {},
   "outputs": [],
   "source": [
    "from sklearn.linear_model import LogisticRegressionCV   # could do LinearSVC...\n",
    "from sklearn import metrics"
   ]
  },
  {
   "cell_type": "code",
   "execution_count": 96,
   "metadata": {},
   "outputs": [],
   "source": [
    "models = {}\n",
    "coefficients = []\n",
    "\n",
    "for label in y_train:\n",
    "    lr = LogisticRegressionCV(penalty='l1', solver='liblinear', scoring='balanced_accuracy')\n",
    "    lr.fit(X_train, y_train[label] > 0)\n",
    "    coeffs = Series(\n",
    "        lr.coef_[0],\n",
    "        index=features.columns\n",
    "    ).sort_values()\n",
    "    \n",
    "    coefficients.append({\n",
    "        'coeffs': coeffs[coeffs != 0],\n",
    "        'label': label,\n",
    "        'balanced_accuracy': lr.score(X_test, y_test[label] > 0),\n",
    "        'f1': metrics.f1_score(y_test[label] > 0, lr.predict(X_test)),\n",
    "        'classification_report': metrics.classification_report(y_test[label] > 0, lr.predict(X_test))\n",
    "    })\n",
    "    models[label] = lr"
   ]
  },
  {
   "cell_type": "code",
   "execution_count": 97,
   "metadata": {},
   "outputs": [
    {
     "data": {
      "text/html": [
       "<div>\n",
       "<style scoped>\n",
       "    .dataframe tbody tr th:only-of-type {\n",
       "        vertical-align: middle;\n",
       "    }\n",
       "\n",
       "    .dataframe tbody tr th {\n",
       "        vertical-align: top;\n",
       "    }\n",
       "\n",
       "    .dataframe thead th {\n",
       "        text-align: right;\n",
       "    }\n",
       "</style>\n",
       "<table border=\"1\" class=\"dataframe\">\n",
       "  <thead>\n",
       "    <tr style=\"text-align: right;\">\n",
       "      <th></th>\n",
       "      <th>coeffs</th>\n",
       "      <th>label</th>\n",
       "      <th>balanced_accuracy</th>\n",
       "      <th>f1</th>\n",
       "      <th>classification_report</th>\n",
       "    </tr>\n",
       "  </thead>\n",
       "  <tbody>\n",
       "    <tr>\n",
       "      <th>0</th>\n",
       "      <td>multi view                         -30.016092\n",
       "x0_BMJ open                        -25.392325\n",
       "x0_E...</td>\n",
       "      <td>is_review</td>\n",
       "      <td>0.840775</td>\n",
       "      <td>0.765027</td>\n",
       "      <td>precision    recall  f1-score   support\\n\\n       False       0.93      0.96      ...</td>\n",
       "    </tr>\n",
       "    <tr>\n",
       "      <th>1</th>\n",
       "      <td>experiments                    -35.066578\n",
       "levels                         -31.910949\n",
       "review      ...</td>\n",
       "      <td>is_method</td>\n",
       "      <td>0.772629</td>\n",
       "      <td>0.620690</td>\n",
       "      <td>precision    recall  f1-score   support\\n\\n       False       0.97      0.98      ...</td>\n",
       "    </tr>\n",
       "    <tr>\n",
       "      <th>2</th>\n",
       "      <td>biological networks   -49.225598\n",
       "current               -47.980357\n",
       "review                -45.3819...</td>\n",
       "      <td>is_other_research_article</td>\n",
       "      <td>0.782313</td>\n",
       "      <td>0.882108</td>\n",
       "      <td>precision    recall  f1-score   support\\n\\n       False       0.69      0.68      ...</td>\n",
       "    </tr>\n",
       "    <tr>\n",
       "      <th>3</th>\n",
       "      <td>potential      -31.555880\n",
       "role           -29.241451\n",
       "genetic        -27.469572\n",
       "recent         -25...</td>\n",
       "      <td>is_other</td>\n",
       "      <td>0.681720</td>\n",
       "      <td>0.444444</td>\n",
       "      <td>precision    recall  f1-score   support\\n\\n       False       0.96      0.98      ...</td>\n",
       "    </tr>\n",
       "  </tbody>\n",
       "</table>\n",
       "</div>"
      ],
      "text/plain": [
       "                                                                                                coeffs  \\\n",
       "0  multi view                         -30.016092\n",
       "x0_BMJ open                        -25.392325\n",
       "x0_E...   \n",
       "1  experiments                    -35.066578\n",
       "levels                         -31.910949\n",
       "review      ...   \n",
       "2  biological networks   -49.225598\n",
       "current               -47.980357\n",
       "review                -45.3819...   \n",
       "3  potential      -31.555880\n",
       "role           -29.241451\n",
       "genetic        -27.469572\n",
       "recent         -25...   \n",
       "\n",
       "                       label  balanced_accuracy        f1  \\\n",
       "0                  is_review           0.840775  0.765027   \n",
       "1                  is_method           0.772629  0.620690   \n",
       "2  is_other_research_article           0.782313  0.882108   \n",
       "3                   is_other           0.681720  0.444444   \n",
       "\n",
       "                                                                                 classification_report  \n",
       "0                precision    recall  f1-score   support\\n\\n       False       0.93      0.96      ...  \n",
       "1                precision    recall  f1-score   support\\n\\n       False       0.97      0.98      ...  \n",
       "2                precision    recall  f1-score   support\\n\\n       False       0.69      0.68      ...  \n",
       "3                precision    recall  f1-score   support\\n\\n       False       0.96      0.98      ...  "
      ]
     },
     "execution_count": 97,
     "metadata": {},
     "output_type": "execute_result"
    }
   ],
   "source": [
    "coefficients = DataFrame(coefficients)\n",
    "coefficients"
   ]
  },
  {
   "cell_type": "code",
   "execution_count": 98,
   "metadata": {},
   "outputs": [
    {
     "name": "stdout",
     "output_type": "stream",
     "text": [
      "              precision    recall  f1-score   support\n",
      "\n",
      "       False       0.97      0.98      0.98       464\n",
      "        True       0.69      0.56      0.62        32\n",
      "\n",
      "    accuracy                           0.96       496\n",
      "   macro avg       0.83      0.77      0.80       496\n",
      "weighted avg       0.95      0.96      0.95       496\n",
      "\n"
     ]
    }
   ],
   "source": [
    "print(coefficients.classification_report.iloc[1])"
   ]
  },
  {
   "cell_type": "code",
   "execution_count": 99,
   "metadata": {},
   "outputs": [
    {
     "data": {
      "text/plain": [
       "multi view                         -30.016092\n",
       "x0_BMJ open                        -25.392325\n",
       "x0_Expert review of proteomics     -21.731010\n",
       "x0_Journal of clinical genomics    -20.872391\n",
       "published                          -18.235762\n",
       "                                      ...    \n",
       "current                             41.009559\n",
       "recent                              47.454908\n",
       "issues                              49.361333\n",
       "past                                51.945478\n",
       "review                             119.089107\n",
       "Length: 327, dtype: float64"
      ]
     },
     "execution_count": 99,
     "metadata": {},
     "output_type": "execute_result"
    }
   ],
   "source": [
    "coefficients.coeffs.iloc[0]"
   ]
  },
  {
   "cell_type": "code",
   "execution_count": 100,
   "metadata": {},
   "outputs": [
    {
     "data": {
      "text/plain": [
       "experiments                    -35.066578\n",
       "levels                         -31.910949\n",
       "review                         -28.445088\n",
       "identified                     -26.372249\n",
       "patients                       -25.175744\n",
       "                                  ...    \n",
       "rank                            30.192395\n",
       "supplementary data available    32.662197\n",
       "dimensionality                  33.615021\n",
       "available bioinformatics        39.975888\n",
       "simulated                       42.476170\n",
       "Length: 473, dtype: float64"
      ]
     },
     "execution_count": 100,
     "metadata": {},
     "output_type": "execute_result"
    }
   ],
   "source": [
    "coefficients.coeffs.iloc[1]"
   ]
  },
  {
   "cell_type": "code",
   "execution_count": 101,
   "metadata": {},
   "outputs": [
    {
     "data": {
      "text/plain": [
       "biological networks   -49.225598\n",
       "current               -47.980357\n",
       "review                -45.381959\n",
       "multiple layers       -36.233451\n",
       "settings              -34.522888\n",
       "                         ...    \n",
       "demonstrated           33.174705\n",
       "program                35.600166\n",
       "perform                35.801292\n",
       "identified             37.146642\n",
       "classes                37.217212\n",
       "Length: 1160, dtype: float64"
      ]
     },
     "execution_count": 101,
     "metadata": {},
     "output_type": "execute_result"
    }
   ],
   "source": [
    "coefficients.coeffs.iloc[2]"
   ]
  },
  {
   "cell_type": "code",
   "execution_count": 102,
   "metadata": {},
   "outputs": [],
   "source": [
    "# literature.loc[X_test.index].assign(prediction=models['is_review'].predict(X_test))[['title', 'prediction']].sort_values('prediction')"
   ]
  },
  {
   "cell_type": "markdown",
   "metadata": {},
   "source": [
    "## Predict"
   ]
  },
  {
   "cell_type": "code",
   "execution_count": 114,
   "metadata": {},
   "outputs": [
    {
     "data": {
      "text/plain": [
       "0.5734953703703703"
      ]
     },
     "execution_count": 114,
     "metadata": {},
     "output_type": "execute_result"
    }
   ],
   "source": [
    "is_qualifying_article.mean()"
   ]
  },
  {
   "cell_type": "code",
   "execution_count": 103,
   "metadata": {},
   "outputs": [],
   "source": [
    "input_data = all_features[~is_qualifying_article]\n",
    "predictions = input_data.index.to_frame().drop(columns='uid')\n",
    "\n",
    "for label, model in models.items():\n",
    "    predictions[label] = model.predict(input_data)"
   ]
  },
  {
   "cell_type": "code",
   "execution_count": 104,
   "metadata": {},
   "outputs": [
    {
     "data": {
      "text/html": [
       "<div>\n",
       "<style scoped>\n",
       "    .dataframe tbody tr th:only-of-type {\n",
       "        vertical-align: middle;\n",
       "    }\n",
       "\n",
       "    .dataframe tbody tr th {\n",
       "        vertical-align: top;\n",
       "    }\n",
       "\n",
       "    .dataframe thead th {\n",
       "        text-align: right;\n",
       "    }\n",
       "</style>\n",
       "<table border=\"1\" class=\"dataframe\">\n",
       "  <thead>\n",
       "    <tr style=\"text-align: right;\">\n",
       "      <th></th>\n",
       "      <th>title</th>\n",
       "      <th>is_review</th>\n",
       "      <th>is_method</th>\n",
       "      <th>is_other_research_article</th>\n",
       "      <th>is_other</th>\n",
       "    </tr>\n",
       "    <tr>\n",
       "      <th>uid</th>\n",
       "      <th></th>\n",
       "      <th></th>\n",
       "      <th></th>\n",
       "      <th></th>\n",
       "      <th></th>\n",
       "    </tr>\n",
       "  </thead>\n",
       "  <tbody>\n",
       "    <tr>\n",
       "      <th>15687693</th>\n",
       "      <td>Integromic analysis of the NCI-60 cancer cell lines.</td>\n",
       "      <td>False</td>\n",
       "      <td>False</td>\n",
       "      <td>False</td>\n",
       "      <td>False</td>\n",
       "    </tr>\n",
       "    <tr>\n",
       "      <th>15687700</th>\n",
       "      <td>Genetic, genomic, and bioinformatic tools for studying breast cancer progression.</td>\n",
       "      <td>False</td>\n",
       "      <td>False</td>\n",
       "      <td>True</td>\n",
       "      <td>False</td>\n",
       "    </tr>\n",
       "    <tr>\n",
       "      <th>15687839</th>\n",
       "      <td>Genomics, proteomics and integrative \"omics\" in hypertension research.</td>\n",
       "      <td>True</td>\n",
       "      <td>False</td>\n",
       "      <td>False</td>\n",
       "      <td>False</td>\n",
       "    </tr>\n",
       "    <tr>\n",
       "      <th>15763567</th>\n",
       "      <td>An integrated approach for inference and mechanistic modeling for advancing drug development.</td>\n",
       "      <td>False</td>\n",
       "      <td>False</td>\n",
       "      <td>False</td>\n",
       "      <td>False</td>\n",
       "    </tr>\n",
       "    <tr>\n",
       "      <th>16077939</th>\n",
       "      <td>Comparative genomics on SFRP1 orthologs.</td>\n",
       "      <td>False</td>\n",
       "      <td>False</td>\n",
       "      <td>True</td>\n",
       "      <td>False</td>\n",
       "    </tr>\n",
       "    <tr>\n",
       "      <th>...</th>\n",
       "      <td>...</td>\n",
       "      <td>...</td>\n",
       "      <td>...</td>\n",
       "      <td>...</td>\n",
       "      <td>...</td>\n",
       "    </tr>\n",
       "    <tr>\n",
       "      <th>32697738</th>\n",
       "      <td>SMSPL: Robust Multimodal Approach to Integrative Analysis of Multiomics Data.</td>\n",
       "      <td>False</td>\n",
       "      <td>False</td>\n",
       "      <td>False</td>\n",
       "      <td>False</td>\n",
       "    </tr>\n",
       "    <tr>\n",
       "      <th>32698759</th>\n",
       "      <td>Multi-omics sequencing provides insight into floral transition in Catalpa bungei. C.A. Mey.</td>\n",
       "      <td>False</td>\n",
       "      <td>False</td>\n",
       "      <td>True</td>\n",
       "      <td>False</td>\n",
       "    </tr>\n",
       "    <tr>\n",
       "      <th>32698873</th>\n",
       "      <td>Multiomics global landscape of stemness-related gene clusters in adipose-derived mesenchymal ste...</td>\n",
       "      <td>False</td>\n",
       "      <td>False</td>\n",
       "      <td>True</td>\n",
       "      <td>False</td>\n",
       "    </tr>\n",
       "    <tr>\n",
       "      <th>32699215</th>\n",
       "      <td>Multi-faceted epigenetic dysregulation of gene expression promotes esophageal squamous cell carc...</td>\n",
       "      <td>False</td>\n",
       "      <td>False</td>\n",
       "      <td>True</td>\n",
       "      <td>False</td>\n",
       "    </tr>\n",
       "    <tr>\n",
       "      <th>32700803</th>\n",
       "      <td>Multiomics data reveals the influences of myasthenia gravis on thymoma and its precision treatment.</td>\n",
       "      <td>False</td>\n",
       "      <td>False</td>\n",
       "      <td>True</td>\n",
       "      <td>False</td>\n",
       "    </tr>\n",
       "  </tbody>\n",
       "</table>\n",
       "<p>1474 rows × 5 columns</p>\n",
       "</div>"
      ],
      "text/plain": [
       "                                                                                                        title  \\\n",
       "uid                                                                                                             \n",
       "15687693                                                 Integromic analysis of the NCI-60 cancer cell lines.   \n",
       "15687700                    Genetic, genomic, and bioinformatic tools for studying breast cancer progression.   \n",
       "15687839                               Genomics, proteomics and integrative \"omics\" in hypertension research.   \n",
       "15763567        An integrated approach for inference and mechanistic modeling for advancing drug development.   \n",
       "16077939                                                             Comparative genomics on SFRP1 orthologs.   \n",
       "...                                                                                                       ...   \n",
       "32697738                        SMSPL: Robust Multimodal Approach to Integrative Analysis of Multiomics Data.   \n",
       "32698759          Multi-omics sequencing provides insight into floral transition in Catalpa bungei. C.A. Mey.   \n",
       "32698873  Multiomics global landscape of stemness-related gene clusters in adipose-derived mesenchymal ste...   \n",
       "32699215  Multi-faceted epigenetic dysregulation of gene expression promotes esophageal squamous cell carc...   \n",
       "32700803  Multiomics data reveals the influences of myasthenia gravis on thymoma and its precision treatment.   \n",
       "\n",
       "          is_review  is_method  is_other_research_article  is_other  \n",
       "uid                                                                  \n",
       "15687693      False      False                      False     False  \n",
       "15687700      False      False                       True     False  \n",
       "15687839       True      False                      False     False  \n",
       "15763567      False      False                      False     False  \n",
       "16077939      False      False                       True     False  \n",
       "...             ...        ...                        ...       ...  \n",
       "32697738      False      False                      False     False  \n",
       "32698759      False      False                       True     False  \n",
       "32698873      False      False                       True     False  \n",
       "32699215      False      False                       True     False  \n",
       "32700803      False      False                       True     False  \n",
       "\n",
       "[1474 rows x 5 columns]"
      ]
     },
     "execution_count": 104,
     "metadata": {},
     "output_type": "execute_result"
    }
   ],
   "source": [
    "predictions.join(literature)[['title', *predictions.columns]]"
   ]
  },
  {
   "cell_type": "code",
   "execution_count": 105,
   "metadata": {},
   "outputs": [
    {
     "data": {
      "text/markdown": [
       "Stored `predictions` (None → 3D39430E) at Saturday, 25. Jul 2020 16:34"
      ],
      "text/plain": [
       "<IPython.core.display.Markdown object>"
      ]
     },
     "metadata": {
      "text/markdown": {
       "action": "store",
       "command": "store predictions as predicted_article_types in pubmed_derived_data",
       "finished": "2020-07-25T16:34:28.357229",
       "finished_human_readable": "Saturday, 25. Jul 2020 16:34",
       "result": [
        {
         "new_file": {
          "crc32": "3D39430E",
          "sha256": "C434CF669D09A80085574C5EAF7D4B6154FF04EC1A2143DA15E42E464E3314E9"
         },
         "old_file": {
          "crc32": null,
          "sha256": null
         },
         "subject": "predictions"
        }
       ],
       "started": "2020-07-25T16:34:27.549933"
      }
     },
     "output_type": "display_data"
    }
   ],
   "source": [
    "%vault store predictions as predicted_article_types in pubmed_derived_data"
   ]
  },
  {
   "cell_type": "markdown",
   "metadata": {},
   "source": [
    "Are the review predictions comparable to articles marked as review (without supporting evidence - so not in train/test)?"
   ]
  },
  {
   "cell_type": "code",
   "execution_count": 106,
   "metadata": {},
   "outputs": [],
   "source": [
    "is_review_left_aside = all_labels[~is_qualifying_article].is_review > 0"
   ]
  },
  {
   "cell_type": "code",
   "execution_count": 107,
   "metadata": {},
   "outputs": [
    {
     "data": {
      "text/plain": [
       "1474"
      ]
     },
     "execution_count": 107,
     "metadata": {},
     "output_type": "execute_result"
    }
   ],
   "source": [
    "len(is_review_left_aside)"
   ]
  },
  {
   "cell_type": "code",
   "execution_count": 108,
   "metadata": {},
   "outputs": [
    {
     "data": {
      "text/plain": [
       "(1215, 259)"
      ]
     },
     "execution_count": 108,
     "metadata": {},
     "output_type": "execute_result"
    }
   ],
   "source": [
    "sum(is_review_left_aside == predictions.is_review), sum(is_review_left_aside != predictions.is_review)"
   ]
  },
  {
   "cell_type": "code",
   "execution_count": 109,
   "metadata": {},
   "outputs": [],
   "source": [
    "reviews_left_aside = set(is_review_left_aside[is_review_left_aside].index)\n",
    "reviews_from_pred = set(predictions[predictions.is_review].index)"
   ]
  },
  {
   "cell_type": "code",
   "execution_count": 110,
   "metadata": {},
   "outputs": [
    {
     "data": {
      "text/plain": [
       "(256, 515)"
      ]
     },
     "execution_count": 110,
     "metadata": {},
     "output_type": "execute_result"
    }
   ],
   "source": [
    "len(reviews_left_aside & reviews_from_pred), len(reviews_left_aside | reviews_from_pred)"
   ]
  },
  {
   "cell_type": "code",
   "execution_count": 111,
   "metadata": {},
   "outputs": [
    {
     "data": {
      "text/plain": [
       "167"
      ]
     },
     "execution_count": 111,
     "metadata": {},
     "output_type": "execute_result"
    }
   ],
   "source": [
    "len(reviews_left_aside - reviews_from_pred)"
   ]
  },
  {
   "cell_type": "code",
   "execution_count": 112,
   "metadata": {},
   "outputs": [
    {
     "data": {
      "text/plain": [
       "92"
      ]
     },
     "execution_count": 112,
     "metadata": {},
     "output_type": "execute_result"
    }
   ],
   "source": [
    "len(reviews_from_pred - reviews_left_aside)"
   ]
  },
  {
   "cell_type": "markdown",
   "metadata": {},
   "source": [
    "Well, the overlap is larger than the difference..."
   ]
  }
 ],
 "metadata": {
  "kernelspec": {
   "display_name": "Python 3",
   "language": "python",
   "name": "python3"
  },
  "language_info": {
   "codemirror_mode": {
    "name": "ipython",
    "version": 3
   },
   "file_extension": ".py",
   "mimetype": "text/x-python",
   "name": "python",
   "nbconvert_exporter": "python",
   "pygments_lexer": "ipython3",
   "version": "3.8.3"
  }
 },
 "nbformat": 4,
 "nbformat_minor": 4
}
